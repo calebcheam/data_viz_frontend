{
 "cells": [
  {
   "cell_type": "code",
   "execution_count": 2,
   "id": "88b932c6",
   "metadata": {},
   "outputs": [],
   "source": [
    "import requests\n",
    "import pandas as pd\n",
    "\n",
    "def get_player_average_rating(player_id: int) -> float:\n",
    "    \"\"\"\n",
    "    Fetches and returns the average rating of a player from the SportMonks API for a given player ID and season ID.\n",
    "    \n",
    "    Parameters:\n",
    "    - player_id (int): The ID of the player.\n",
    "    - season_id (int): The ID of the season.\n",
    "    \n",
    "    Returns:\n",
    "    - float: The average rating of the player.\n",
    "    \"\"\"\n",
    "    \n",
    "    # Ensure the inputs are integers\n",
    "    if not isinstance(player_id, int):\n",
    "        raise TypeError(\"Player ID and Season ID must be integers.\")\n",
    "    \n",
    "    # API request\n",
    "    url = f\"https://api.sportmonks.com/v3/football/players/{player_id}?api_token={api_token}&include=statistics.details.type&filters=playerStatisticSeasons:21646\"\n",
    "    response = requests.get(url)\n",
    "    \n",
    "    # Check for request failure\n",
    "    if response.status_code != 200:\n",
    "        raise ConnectionError(f\"Failed to fetch data from API. Status code: {response.status_code}\")\n",
    "    \n",
    "    data = response.json()\n",
    "    \n",
    "    # Extracting player statistics\n",
    "    try:\n",
    "        player_statistics = data['data']['statistics'][0]['details']\n",
    "    except (KeyError, IndexError):\n",
    "        raise ValueError(\"Failed to extract player statistics from API response.\")\n",
    "    \n",
    "    # Extracting average rating\n",
    "    average_rating = None\n",
    "    for stat in player_statistics:\n",
    "        if stat['type']['name'] == 'Rating':\n",
    "            average_rating = stat['value']['total'] if isinstance(stat['value'], dict) and 'total' in stat['value'] else stat['value']\n",
    "            break\n",
    "    \n",
    "    if average_rating is None:\n",
    "        raise ValueError(\"Failed to find average rating in player statistics.\")\n",
    "    \n",
    "    return average_rating.get('average')\n",
    "\n",
    "def get_player_consistency_rating(player_id: int) -> float:\n",
    "    \"\"\"\n",
    "    Fetches and returns the consistency rating of a player from the SportMonks API for a given player ID and season ID.\n",
    "    \n",
    "    Parameters:\n",
    "    - player_id (int): The ID of the player.\n",
    "    - season_id (int): The ID of the season.\n",
    "    \n",
    "    Returns:\n",
    "    - float: The consistency rating of the player.\n",
    "    \"\"\"\n",
    "    \n",
    "    # Ensure the inputs are integers\n",
    "    if not isinstance(player_id, int):\n",
    "        raise TypeError(\"Player ID and Season ID must be integers.\")\n",
    "    \n",
    "    # API request\n",
    "    url = f\"https://api.sportmonks.com/v3/football/players/{player_id}?api_token={api_token}&include=statistics.details.type&filters=playerStatisticSeasons:21646\"\n",
    "    response = requests.get(url)\n",
    "    \n",
    "    # Check for request failure\n",
    "    if response.status_code != 200:\n",
    "        raise ConnectionError(f\"Failed to fetch data from API. Status code: {response.status_code}\")\n",
    "    \n",
    "    data = response.json()\n",
    "    \n",
    "    # Extracting player statistics\n",
    "    try:\n",
    "        player_statistics = data['data']['statistics'][0]['details']\n",
    "    except (KeyError, IndexError):\n",
    "        raise ValueError(\"Failed to extract player statistics from API response.\")\n",
    "    \n",
    "    # Extracting average rating\n",
    "    average_rating = None\n",
    "    for stat in player_statistics:\n",
    "        if stat['type']['name'] == 'Rating':\n",
    "            average_rating = stat['value']['total'] if isinstance(stat['value'], dict) and 'total' in stat['value'] else stat['value']\n",
    "            break\n",
    "    \n",
    "    if average_rating is None:\n",
    "        raise ValueError(\"Failed to find average rating in player statistics.\")\n",
    "    \n",
    "    return -(average_rating.get('highest')-average_rating.get('lowest'))"
   ]
  },
  {
   "cell_type": "code",
   "execution_count": 3,
   "id": "a79584d0",
   "metadata": {},
   "outputs": [
    {
     "data": {
      "text/html": [
       "<div>\n",
       "<style scoped>\n",
       "    .dataframe tbody tr th:only-of-type {\n",
       "        vertical-align: middle;\n",
       "    }\n",
       "\n",
       "    .dataframe tbody tr th {\n",
       "        vertical-align: top;\n",
       "    }\n",
       "\n",
       "    .dataframe thead th {\n",
       "        text-align: right;\n",
       "    }\n",
       "</style>\n",
       "<table border=\"1\" class=\"dataframe\">\n",
       "  <thead>\n",
       "    <tr style=\"text-align: right;\">\n",
       "      <th></th>\n",
       "      <th>player_id</th>\n",
       "      <th>team_id</th>\n",
       "      <th>image_path</th>\n",
       "      <th>name</th>\n",
       "      <th>position</th>\n",
       "      <th>detailed_position</th>\n",
       "      <th>position_name</th>\n",
       "      <th>broad_position</th>\n",
       "      <th>average_rating</th>\n",
       "      <th>consistency_rating</th>\n",
       "      <th>normalized_consistency</th>\n",
       "    </tr>\n",
       "  </thead>\n",
       "  <tbody>\n",
       "    <tr>\n",
       "      <th>0</th>\n",
       "      <td>540579</td>\n",
       "      <td>6</td>\n",
       "      <td>https://cdn.sportmonks.com/images/soccer/playe...</td>\n",
       "      <td>Oliver Skipp</td>\n",
       "      <td>26</td>\n",
       "      <td>149</td>\n",
       "      <td>Defensive Midfield</td>\n",
       "      <td>Midfielder</td>\n",
       "      <td>6.71</td>\n",
       "      <td>-0.61</td>\n",
       "      <td>8.342391</td>\n",
       "    </tr>\n",
       "    <tr>\n",
       "      <th>1</th>\n",
       "      <td>1744</td>\n",
       "      <td>6</td>\n",
       "      <td>https://cdn.sportmonks.com/images/soccer/playe...</td>\n",
       "      <td>Pierre-Emile Højbjerg</td>\n",
       "      <td>26</td>\n",
       "      <td>153</td>\n",
       "      <td>Central Midfield</td>\n",
       "      <td>Midfielder</td>\n",
       "      <td>6.87</td>\n",
       "      <td>-0.91</td>\n",
       "      <td>7.527174</td>\n",
       "    </tr>\n",
       "    <tr>\n",
       "      <th>2</th>\n",
       "      <td>4313</td>\n",
       "      <td>6</td>\n",
       "      <td>https://cdn.sportmonks.com/images/soccer/playe...</td>\n",
       "      <td>Heung-min Son</td>\n",
       "      <td>27</td>\n",
       "      <td>152</td>\n",
       "      <td>Left Wing</td>\n",
       "      <td>Attacker</td>\n",
       "      <td>7.88</td>\n",
       "      <td>-2.76</td>\n",
       "      <td>2.500000</td>\n",
       "    </tr>\n",
       "    <tr>\n",
       "      <th>3</th>\n",
       "      <td>96870</td>\n",
       "      <td>6</td>\n",
       "      <td>https://cdn.sportmonks.com/images/soccer/playe...</td>\n",
       "      <td>Yves Bissouma</td>\n",
       "      <td>26</td>\n",
       "      <td>153</td>\n",
       "      <td>Central Midfield</td>\n",
       "      <td>Midfielder</td>\n",
       "      <td>7.48</td>\n",
       "      <td>-1.84</td>\n",
       "      <td>5.000000</td>\n",
       "    </tr>\n",
       "    <tr>\n",
       "      <th>4</th>\n",
       "      <td>219633</td>\n",
       "      <td>6</td>\n",
       "      <td>https://cdn.sportmonks.com/images/soccer/playe...</td>\n",
       "      <td>Richarlison</td>\n",
       "      <td>27</td>\n",
       "      <td>151</td>\n",
       "      <td>Centre Forward</td>\n",
       "      <td>Attacker</td>\n",
       "      <td>6.78</td>\n",
       "      <td>-1.63</td>\n",
       "      <td>5.570652</td>\n",
       "    </tr>\n",
       "  </tbody>\n",
       "</table>\n",
       "</div>"
      ],
      "text/plain": [
       "   player_id  team_id                                         image_path  \\\n",
       "0     540579        6  https://cdn.sportmonks.com/images/soccer/playe...   \n",
       "1       1744        6  https://cdn.sportmonks.com/images/soccer/playe...   \n",
       "2       4313        6  https://cdn.sportmonks.com/images/soccer/playe...   \n",
       "3      96870        6  https://cdn.sportmonks.com/images/soccer/playe...   \n",
       "4     219633        6  https://cdn.sportmonks.com/images/soccer/playe...   \n",
       "\n",
       "                    name  position  detailed_position       position_name  \\\n",
       "0           Oliver Skipp        26                149  Defensive Midfield   \n",
       "1  Pierre-Emile Højbjerg        26                153    Central Midfield   \n",
       "2          Heung-min Son        27                152           Left Wing   \n",
       "3          Yves Bissouma        26                153    Central Midfield   \n",
       "4            Richarlison        27                151      Centre Forward   \n",
       "\n",
       "  broad_position  average_rating  consistency_rating  normalized_consistency  \n",
       "0     Midfielder            6.71               -0.61                8.342391  \n",
       "1     Midfielder            6.87               -0.91                7.527174  \n",
       "2       Attacker            7.88               -2.76                2.500000  \n",
       "3     Midfielder            7.48               -1.84                5.000000  \n",
       "4       Attacker            6.78               -1.63                5.570652  "
      ]
     },
     "execution_count": 3,
     "metadata": {},
     "output_type": "execute_result"
    }
   ],
   "source": [
    "api_token = 'WPlkXKJHDUEu3HehTDHs4sUg2OQhJiSQ3k5bSOB8r4REsFBIhydo3Z0F9Wsr'\n",
    "\n",
    "\n",
    "def extract_player_data(fixture_id:int):\n",
    "    \"\"\"\n",
    "    Extracts relevant player data from a list of player data objects and returns it as a DataFrame.\n",
    "    \n",
    "    Parameters:\n",
    "    - player_data_list (list): A list of dictionaries containing player data.\n",
    "    \n",
    "    Returns:\n",
    "    - pd.DataFrame: A DataFrame containing the extracted data.\n",
    "    \"\"\"\n",
    "    url = f'https://api.sportmonks.com/v3/football/fixtures/{fixture_id}?api_token={api_token}&include=participants;events;statistics;lineups.player:display_name,image_path;lineups.player.country:name,image_path;lineups.details.type'\n",
    "\n",
    "    response = requests.get(url)\n",
    "    data = response.json()\n",
    "    player_data_list = data['data']['lineups']\n",
    "    player_ids = []\n",
    "    team_ids = []\n",
    "    image_paths = []\n",
    "    names = []\n",
    "    positions = []\n",
    "    details = []\n",
    "    detailed_positions = []\n",
    "    \n",
    "    position_mapping = {\n",
    "    24: \"Goalkeeper\",\n",
    "    25: \"Defender\",\n",
    "    26: \"Midfielder\",\n",
    "    27: \"Attacker\",\n",
    "    28: \"Unknown\",\n",
    "    148: \"Centre Back\",\n",
    "    149: \"Defensive Midfield\",\n",
    "    150: \"Attacking Midfield\",\n",
    "    151: \"Centre Forward\",\n",
    "    152: \"Left Wing\",\n",
    "    153: \"Central Midfield\",\n",
    "    154: \"Right Back\",\n",
    "    155: \"Left Back\",\n",
    "    156: \"Right Wing\",\n",
    "    157: \"Left Midfield\",\n",
    "    158: \"Right Midfield\",\n",
    "    163: \"Secondary Striker\",\n",
    "    221: \"Coach\",\n",
    "    226: \"Assistant Coach\",\n",
    "    227: \"Goalkeeping Coach\",\n",
    "    228: \"Forward Coach\",\n",
    "    560: \"Caretaker Manager\"\n",
    "    }\n",
    "    \n",
    "    for player_data in player_data_list:\n",
    "        if 'details' in player_data and player_data['details']:\n",
    "            player_ids.append(player_data['player_id'])\n",
    "            team_ids.append(player_data['team_id'])\n",
    "            image_paths.append(player_data['player']['image_path'])\n",
    "            names.append(player_data['player_name'])\n",
    "            positions.append(player_data['player']['position_id'])\n",
    "            detailed_positions.append(player_data['player']['detailed_position_id'] if player_data['player'].get('detailed_position_id') !=None else None)\n",
    "\n",
    "    df = pd.DataFrame({\n",
    "        'player_id': player_ids,\n",
    "        'team_id': team_ids,\n",
    "        'image_path': image_paths,\n",
    "        'name': names,\n",
    "        'position': positions,\n",
    "        'detailed_position': detailed_positions,\n",
    "    })\n",
    "    \n",
    "    df['detailed_position'].fillna(df['position'], inplace=True)\n",
    "\n",
    "    df['detailed_position'] = df['detailed_position'].astype(int)\n",
    "\n",
    "    df['position_name'] = df['detailed_position'].map(position_mapping)\n",
    "    df['broad_position'] = df['position'].map(position_mapping)\n",
    "\n",
    "\n",
    "    return df\n",
    "\n",
    "df = extract_player_data(18841683)\n",
    "df['average_rating'] = df['player_id'].apply(lambda x: get_player_average_rating(x))\n",
    "df['consistency_rating'] = df['player_id'].apply(lambda x: get_player_consistency_rating(x))\n",
    "def minmax_normalize(series, scale_min=0, scale_max=10):\n",
    "    return (series - series.min()) / (series.max() - series.min()) * (scale_max - scale_min) + scale_min\n",
    "df['normalized_consistency'] = minmax_normalize(df['consistency_rating'])\n",
    "df.head(5)"
   ]
  },
  {
   "cell_type": "code",
   "execution_count": 4,
   "id": "d42cdeb7",
   "metadata": {},
   "outputs": [],
   "source": [
    "df.to_csv('players_data.csv',index=False)"
   ]
  },
  {
   "cell_type": "code",
   "execution_count": 149,
   "id": "b5828f29",
   "metadata": {},
   "outputs": [],
   "source": [
    "#time series team stats\n",
    "def calculate_scored_conceded(data,team_id):\n",
    "    scored = [obj for obj in data if obj['participant_id']==team_id]\n",
    "    first_half_scored = scored[1]['score']['goals']\n",
    "    second_half_scored = scored[2]['score']['goals']\n",
    "    home_away = scored[0]['score']['participant']\n",
    "    conceded = [obj for obj in data if obj['participant_id']!=team_id]\n",
    "    first_half_conceded = conceded[1]['score']['goals']\n",
    "    second_half_conceded = conceded[2]['score']['goals']\n",
    "    \n",
    "    return {\n",
    "        '1st_half_scored': first_half_scored,\n",
    "        '2nd_half_scored': second_half_scored,\n",
    "        '1st_half_conceded': first_half_conceded,\n",
    "        '2nd_half_conceded': second_half_conceded,\n",
    "        'home_away': home_away\n",
    "    }\n",
    "\n",
    "def get_team_stats_lookback(api_token, start_date, end_date, team_id, team_name):\n",
    "    \"\"\"\n",
    "    Fetches and returns the team statistics from the SportMonks API for a given date range and team.\n",
    "    Parameters:\n",
    "    - api_token (str): API token for accessing the SportMonks API.\n",
    "    - start_date (str): Start date in the format 'YYYY-MM-DD'.\n",
    "    - end_date (str): End date in the format 'YYYY-MM-DD'.\n",
    "    - team_id (int): The ID of the team.\n",
    "    - team_name (str): The name of the team.\n",
    "    Returns:\n",
    "    - pd.DataFrame: A DataFrame containing the team statistics.\n",
    "    \"\"\"\n",
    "    \n",
    "    if not isinstance(api_token, str) or not isinstance(start_date, str) or not isinstance(end_date, str) or not isinstance(team_id, int) or not isinstance(team_name, str):\n",
    "        raise TypeError(\"Invalid input type. Please ensure all inputs are of the correct type.\")\n",
    "    \n",
    "    url = f'https://api.sportmonks.com/v3/football/fixtures/between/{start_date}/{end_date}?api_token={api_token}&include=participants;scores;statistics.type;&filters=participantSearch:{team_name}'\n",
    "    response = requests.get(url)\n",
    "    \n",
    "    if response.status_code != 200:\n",
    "        raise ConnectionError(f\"Failed to fetch data from API. Status code: {response.status_code}\")\n",
    "    \n",
    "    data = response.json()\n",
    "    scores = [\n",
    "        [\n",
    "            score for score in fixture['scores']\n",
    "            \n",
    "        ]\n",
    "        for fixture in data['data'] if len(fixture['scores'])!=0\n",
    "    ]\n",
    "        \n",
    "    scores_df = pd.DataFrame([calculate_scored_conceded(score, team_id) for score in scores])\n",
    "\n",
    "    past_stats = [\n",
    "        [\n",
    "            stat for stat in fixture['statistics']\n",
    "            if stat['participant_id'] == team_id\n",
    "        ]\n",
    "        for fixture in data['data']\n",
    "    ]\n",
    "\n",
    "    df = pd.concat(\n",
    "        [\n",
    "            pd.DataFrame(\n",
    "                {\n",
    "                    stat['type']['name']: stat['data']['value']\n",
    "                    for stat in game\n",
    "                },\n",
    "                index=[i]\n",
    "            )\n",
    "            for i, game in enumerate(past_stats)\n",
    "        ],\n",
    "        axis=0\n",
    "    )\n",
    "\n",
    "    df.reset_index(drop=True, inplace=True)\n",
    "    \n",
    "    df = pd.concat([df,scores_df],axis=1)\n",
    "    if team_id == 8: #cleaning\n",
    "        df.loc[2,'2nd_half_scored'] = 2\n",
    "\n",
    "    df['result'] = df.apply(\n",
    "    lambda row: 'win' if row['2nd_half_scored'] > row['2nd_half_conceded'] else ('draw' if row['2nd_half_scored'] == row['2nd_half_conceded'] else 'lose'),\n",
    "    axis=1\n",
    "    )\n",
    "    df.drop(columns=\"Yellowred Cards\",inplace=True)\n",
    "    return df.fillna(0)\n",
    "\n",
    "api_token = 'WPlkXKJHDUEu3HehTDHs4sUg2OQhJiSQ3k5bSOB8r4REsFBIhydo3Z0F9Wsr'\n",
    "start_date = '2023-08-11'\n",
    "end_date = '2023-10-23'\n",
    "\n",
    "try:\n",
    "    spurs = get_team_stats_lookback(api_token, start_date, end_date, 6, 'Tottenham')\n",
    "    liverpool = get_team_stats_lookback(api_token, start_date, end_date, 8, 'Liverpool')\n",
    "except Exception as e:\n",
    "    print(f\"An error occurred: {str(e)}\")"
   ]
  },
  {
   "cell_type": "code",
   "execution_count": 150,
   "id": "8ccaf9cb",
   "metadata": {},
   "outputs": [],
   "source": [
    "spurs.to_csv('spurs.csv',index=False)\n",
    "liverpool.to_csv('liverpool.csv',index=False)"
   ]
  },
  {
   "cell_type": "code",
   "execution_count": 155,
   "id": "1699e8d6",
   "metadata": {},
   "outputs": [
    {
     "data": {
      "text/plain": [
       "Index(['Successful Passes Percentage', 'Offsides', 'Goal Kicks',\n",
       "       'Shots Insidebox', 'Assists', 'Yellowcards', 'Redcards',\n",
       "       'Substitutions', 'Successful Dribbles', 'Shots Total', 'Saves',\n",
       "       'Shots Blocked', 'Shots Off Target', 'Treatments', 'Free Kicks',\n",
       "       'Attacks', 'Passes', 'Interceptions', 'Corners', 'Shots Outsidebox',\n",
       "       'Accurate Crosses', 'Successful Passes', 'Goals', 'Fouls', 'Headers',\n",
       "       'Successful Interceptions', 'Injuries', 'Duels Won',\n",
       "       'Successful Headers', 'Dribble Attempts', 'Ball Safe',\n",
       "       'Dangerous Attacks', 'Throwins', 'Penalties', 'Shots On Target',\n",
       "       'Tackles', 'Challenges', 'Goal Attempts', 'Counter Attacks',\n",
       "       'Total Crosses', 'Key Passes', 'Ball Possession %', 'Hit Woodwork',\n",
       "       '1st_half_scored', '2nd_half_scored', '1st_half_conceded',\n",
       "       '2nd_half_conceded', 'home_away', 'result'],\n",
       "      dtype='object')"
      ]
     },
     "execution_count": 155,
     "metadata": {},
     "output_type": "execute_result"
    }
   ],
   "source": [
    "liverpool = pd.read_csv('liverpool.csv')\n",
    "\n",
    "liverpool.columns\n",
    "\n",
    "spurs = pd.read_csv('spurs.csv')\n",
    "\n",
    "spurs.columns"
   ]
  },
  {
   "cell_type": "code",
   "execution_count": 186,
   "id": "d16ac305",
   "metadata": {},
   "outputs": [
    {
     "data": {
      "image/png": "[encoded data removed]",
      "text/plain": [
       "<Figure size 1000x600 with 1 Axes>"
      ]
     },
     "metadata": {},
     "output_type": "display_data"
    }
   ],
   "source": [
    "import matplotlib.pyplot as plt\n",
    "import pandas as pd\n",
    "from scipy.interpolate import UnivariateSpline\n",
    "import numpy as np\n",
    "\n",
    "plt.rcParams[\"font.family\"] = \"serif\"\n",
    "\n",
    "def plot_goals_vs_conceded(df):\n",
    "    fig, ax = plt.subplots(figsize=(10, 6))\n",
    "    x = df.index\n",
    "\n",
    "    ax.plot(x, df['Goals'], label='Goals Scored', color='darkgreen', linestyle='-', linewidth=5)\n",
    "    ax.plot(x, df['2nd_half_conceded'], label='Goals Conceded', color='darkred', linestyle='-', linewidth=5)\n",
    "\n",
    "    ax.fill_between(x, df['Goals'], df['2nd_half_conceded'], \n",
    "                    where=(df['Goals'] > df['2nd_half_conceded']), \n",
    "                    interpolate=True, color='lightgreen')\n",
    "    ax.fill_between(x, df['Goals'], df['2nd_half_conceded'], \n",
    "                    where=(df['Goals'] <= df['2nd_half_conceded']), \n",
    "                    interpolate=True, color='lightcoral')\n",
    "\n",
    "    for idx, row in df.iterrows():\n",
    "        if row['Goals'] > row['2nd_half_conceded']:\n",
    "            ax.text(idx, max(df['Goals'].max(), df['2nd_half_conceded'].max()) + 1, 'W', color='darkgreen', ha='center',fontsize=14,weight='bold')\n",
    "        elif row['Goals'] == row['2nd_half_conceded']:\n",
    "            ax.text(idx, max(df['Goals'].max(), df['2nd_half_conceded'].max()) + 1, 'D', color='orange', ha='center',fontsize=14,weight='bold')\n",
    "        else:\n",
    "            ax.text(idx, max(df['Goals'].max(), df['2nd_half_conceded'].max()) + 1, 'L', color='darkred', ha='center',fontsize=14,weight='bold')\n",
    "\n",
    "    ax.set_title(f'Goals Scored vs. Goals Conceded Over Past {len(df)} Matches', fontsize=16, weight='bold')\n",
    "    ax.set_xlabel('Match Number')\n",
    "    ax.set_ylabel('Goals')\n",
    "    ax.legend()\n",
    "\n",
    "    ax.set_xlim(df.index.min() - 0.5, df.index.max() + 0.5)\n",
    "    ax.set_ylim(0, max(df['Goals'].max(), df['2nd_half_conceded'].max()) + 2)\n",
    "    ax.grid(True, which='both', linestyle='--', linewidth=0.7, color='#b0b0b0')\n",
    "\n",
    "    # Annotating the first big green space with \"5 win streak\"\n",
    "    win_streak = (df['Goals'] > df['2nd_half_conceded']).astype(int)\n",
    "    win_streak = win_streak * (win_streak.groupby((win_streak != win_streak.shift()).cumsum()).cumcount() + 1)\n",
    "    max_streak_row = win_streak.idxmax()\n",
    "    if win_streak[max_streak_row] >= 5:\n",
    "        ax.annotate(f'{win_streak[max_streak_row]} win streak', \n",
    "                    xy=(max_streak_row, df['Goals'][max_streak_row]/1.5),\n",
    "                    xytext=(max_streak_row, df['Goals'][max_streak_row]/2 + 2), \n",
    "                    arrowprops=dict(facecolor='black', arrowstyle='->'),\n",
    "                    ha='center', fontsize=15)\n",
    "\n",
    "    plt.tight_layout()\n",
    "    plt.show()\n",
    "\n",
    "plot_goals_vs_conceded(liverpool[['Goals','2nd_half_conceded']])\n"
   ]
  },
  {
   "cell_type": "code",
   "execution_count": 267,
   "id": "02ef9299",
   "metadata": {},
   "outputs": [
    {
     "data": {
      "application/vnd.plotly.v1+json": {
       "config": {
        "plotlyServerURL": "https://plot.ly"
       },
       "data": [
        {
         "hoverinfo": "text+name",
         "marker": {
          "color": "#D32F2F"
         },
         "name": "Blocked",
         "text": [
          "30.32%",
          "31.37%"
         ],
         "type": "bar",
         "x": [
          "Liverpool",
          "Spurs"
         ],
         "xaxis": "x",
         "y": [
          30.32258064516129,
          31.372549019607842
         ],
         "yaxis": "y"
        },
        {
         "hoverinfo": "text+name",
         "marker": {
          "color": "#FBC02D"
         },
         "name": "Off Target",
         "text": [
          "40.00%",
          "30.72%"
         ],
         "type": "bar",
         "x": [
          "Liverpool",
          "Spurs"
         ],
         "xaxis": "x",
         "y": [
          40,
          30.718954248366014
         ],
         "yaxis": "y"
        },
        {
         "hoverinfo": "text+name",
         "marker": {
          "color": "#388E3C"
         },
         "name": "On Target",
         "text": [
          "29.68%",
          "37.91%"
         ],
         "type": "bar",
         "x": [
          "Liverpool",
          "Spurs"
         ],
         "xaxis": "x",
         "y": [
          29.677419354838708,
          37.908496732026144
         ],
         "yaxis": "y"
        },
        {
         "hoverinfo": "text+name",
         "marker": {
          "color": "#1976D2"
         },
         "name": "Insidebox",
         "text": [
          "63.87%",
          "62.75%"
         ],
         "type": "bar",
         "x": [
          "Liverpool",
          "Spurs"
         ],
         "xaxis": "x2",
         "y": [
          63.87096774193548,
          62.745098039215684
         ],
         "yaxis": "y2"
        },
        {
         "hoverinfo": "text+name",
         "marker": {
          "color": "#8E24AA"
         },
         "name": "Outsidebox",
         "text": [
          "36.13%",
          "37.25%"
         ],
         "type": "bar",
         "x": [
          "Liverpool",
          "Spurs"
         ],
         "xaxis": "x2",
         "y": [
          36.12903225806451,
          37.254901960784316
         ],
         "yaxis": "y2"
        }
       ],
       "layout": {
        "annotations": [
         {
          "font": {
           "size": 16
          },
          "showarrow": false,
          "text": "Shooting Accuracy (%)",
          "x": 0.225,
          "xanchor": "center",
          "xref": "paper",
          "y": 1,
          "yanchor": "bottom",
          "yref": "paper"
         },
         {
          "font": {
           "size": 16
          },
          "showarrow": false,
          "text": "Shot Location (%)",
          "x": 0.775,
          "xanchor": "center",
          "xref": "paper",
          "y": 1,
          "yanchor": "bottom",
          "yref": "paper"
         }
        ],
        "bargap": 0.3,
        "barmode": "stack",
        "font": {
         "color": "#ECF0F1",
         "family": "Arial, Helvetica, sans-serif",
         "size": 12
        },
        "paper_bgcolor": "#2C3E50",
        "plot_bgcolor": "#2C3E50",
        "template": {
         "data": {
          "bar": [
           {
            "error_x": {
             "color": "#2a3f5f"
            },
            "error_y": {
             "color": "#2a3f5f"
            },
            "marker": {
             "line": {
              "color": "#E5ECF6",
              "width": 0.5
             },
             "pattern": {
              "fillmode": "overlay",
              "size": 10,
              "solidity": 0.2
             }
            },
            "type": "bar"
           }
          ],
          "barpolar": [
           {
            "marker": {
             "line": {
              "color": "#E5ECF6",
              "width": 0.5
             },
             "pattern": {
              "fillmode": "overlay",
              "size": 10,
              "solidity": 0.2
             }
            },
            "type": "barpolar"
           }
          ],
          "carpet": [
           {
            "aaxis": {
             "endlinecolor": "#2a3f5f",
             "gridcolor": "white",
             "linecolor": "white",
             "minorgridcolor": "white",
             "startlinecolor": "#2a3f5f"
            },
            "baxis": {
             "endlinecolor": "#2a3f5f",
             "gridcolor": "white",
             "linecolor": "white",
             "minorgridcolor": "white",
             "startlinecolor": "#2a3f5f"
            },
            "type": "carpet"
           }
          ],
          "choropleth": [
           {
            "colorbar": {
             "outlinewidth": 0,
             "ticks": ""
            },
            "type": "choropleth"
           }
          ],
          "contour": [
           {
            "colorbar": {
             "outlinewidth": 0,
             "ticks": ""
            },
            "colorscale": [
             [
              0,
              "#0d0887"
             ],
             [
              0.1111111111111111,
              "#46039f"
             ],
             [
              0.2222222222222222,
              "#7201a8"
             ],
             [
              0.3333333333333333,
              "#9c179e"
             ],
             [
              0.4444444444444444,
              "#bd3786"
             ],
             [
              0.5555555555555556,
              "#d8576b"
             ],
             [
              0.6666666666666666,
              "#ed7953"
             ],
             [
              0.7777777777777778,
              "#fb9f3a"
             ],
             [
              0.8888888888888888,
              "#fdca26"
             ],
             [
              1,
              "#f0f921"
             ]
            ],
            "type": "contour"
           }
          ],
          "contourcarpet": [
           {
            "colorbar": {
             "outlinewidth": 0,
             "ticks": ""
            },
            "type": "contourcarpet"
           }
          ],
          "heatmap": [
           {
            "colorbar": {
             "outlinewidth": 0,
             "ticks": ""
            },
            "colorscale": [
             [
              0,
              "#0d0887"
             ],
             [
              0.1111111111111111,
              "#46039f"
             ],
             [
              0.2222222222222222,
              "#7201a8"
             ],
             [
              0.3333333333333333,
              "#9c179e"
             ],
             [
              0.4444444444444444,
              "#bd3786"
             ],
             [
              0.5555555555555556,
              "#d8576b"
             ],
             [
              0.6666666666666666,
              "#ed7953"
             ],
             [
              0.7777777777777778,
              "#fb9f3a"
             ],
             [
              0.8888888888888888,
              "#fdca26"
             ],
             [
              1,
              "#f0f921"
             ]
            ],
            "type": "heatmap"
           }
          ],
          "heatmapgl": [
           {
            "colorbar": {
             "outlinewidth": 0,
             "ticks": ""
            },
            "colorscale": [
             [
              0,
              "#0d0887"
             ],
             [
              0.1111111111111111,
              "#46039f"
             ],
             [
              0.2222222222222222,
              "#7201a8"
             ],
             [
              0.3333333333333333,
              "#9c179e"
             ],
             [
              0.4444444444444444,
              "#bd3786"
             ],
             [
              0.5555555555555556,
              "#d8576b"
             ],
             [
              0.6666666666666666,
              "#ed7953"
             ],
             [
              0.7777777777777778,
              "#fb9f3a"
             ],
             [
              0.8888888888888888,
              "#fdca26"
             ],
             [
              1,
              "#f0f921"
             ]
            ],
            "type": "heatmapgl"
           }
          ],
          "histogram": [
           {
            "marker": {
             "pattern": {
              "fillmode": "overlay",
              "size": 10,
              "solidity": 0.2
             }
            },
            "type": "histogram"
           }
          ],
          "histogram2d": [
           {
            "colorbar": {
             "outlinewidth": 0,
             "ticks": ""
            },
            "colorscale": [
             [
              0,
              "#0d0887"
             ],
             [
              0.1111111111111111,
              "#46039f"
             ],
             [
              0.2222222222222222,
              "#7201a8"
             ],
             [
              0.3333333333333333,
              "#9c179e"
             ],
             [
              0.4444444444444444,
              "#bd3786"
             ],
             [
              0.5555555555555556,
              "#d8576b"
             ],
             [
              0.6666666666666666,
              "#ed7953"
             ],
             [
              0.7777777777777778,
              "#fb9f3a"
             ],
             [
              0.8888888888888888,
              "#fdca26"
             ],
             [
              1,
              "#f0f921"
             ]
            ],
            "type": "histogram2d"
           }
          ],
          "histogram2dcontour": [
           {
            "colorbar": {
             "outlinewidth": 0,
             "ticks": ""
            },
            "colorscale": [
             [
              0,
              "#0d0887"
             ],
             [
              0.1111111111111111,
              "#46039f"
             ],
             [
              0.2222222222222222,
              "#7201a8"
             ],
             [
              0.3333333333333333,
              "#9c179e"
             ],
             [
              0.4444444444444444,
              "#bd3786"
             ],
             [
              0.5555555555555556,
              "#d8576b"
             ],
             [
              0.6666666666666666,
              "#ed7953"
             ],
             [
              0.7777777777777778,
              "#fb9f3a"
             ],
             [
              0.8888888888888888,
              "#fdca26"
             ],
             [
              1,
              "#f0f921"
             ]
            ],
            "type": "histogram2dcontour"
           }
          ],
          "mesh3d": [
           {
            "colorbar": {
             "outlinewidth": 0,
             "ticks": ""
            },
            "type": "mesh3d"
           }
          ],
          "parcoords": [
           {
            "line": {
             "colorbar": {
              "outlinewidth": 0,
              "ticks": ""
             }
            },
            "type": "parcoords"
           }
          ],
          "pie": [
           {
            "automargin": true,
            "type": "pie"
           }
          ],
          "scatter": [
           {
            "fillpattern": {
             "fillmode": "overlay",
             "size": 10,
             "solidity": 0.2
            },
            "type": "scatter"
           }
          ],
          "scatter3d": [
           {
            "line": {
             "colorbar": {
              "outlinewidth": 0,
              "ticks": ""
             }
            },
            "marker": {
             "colorbar": {
              "outlinewidth": 0,
              "ticks": ""
             }
            },
            "type": "scatter3d"
           }
          ],
          "scattercarpet": [
           {
            "marker": {
             "colorbar": {
              "outlinewidth": 0,
              "ticks": ""
             }
            },
            "type": "scattercarpet"
           }
          ],
          "scattergeo": [
           {
            "marker": {
             "colorbar": {
              "outlinewidth": 0,
              "ticks": ""
             }
            },
            "type": "scattergeo"
           }
          ],
          "scattergl": [
           {
            "marker": {
             "colorbar": {
              "outlinewidth": 0,
              "ticks": ""
             }
            },
            "type": "scattergl"
           }
          ],
          "scattermapbox": [
           {
            "marker": {
             "colorbar": {
              "outlinewidth": 0,
              "ticks": ""
             }
            },
            "type": "scattermapbox"
           }
          ],
          "scatterpolar": [
           {
            "marker": {
             "colorbar": {
              "outlinewidth": 0,
              "ticks": ""
             }
            },
            "type": "scatterpolar"
           }
          ],
          "scatterpolargl": [
           {
            "marker": {
             "colorbar": {
              "outlinewidth": 0,
              "ticks": ""
             }
            },
            "type": "scatterpolargl"
           }
          ],
          "scatterternary": [
           {
            "marker": {
             "colorbar": {
              "outlinewidth": 0,
              "ticks": ""
             }
            },
            "type": "scatterternary"
           }
          ],
          "surface": [
           {
            "colorbar": {
             "outlinewidth": 0,
             "ticks": ""
            },
            "colorscale": [
             [
              0,
              "#0d0887"
             ],
             [
              0.1111111111111111,
              "#46039f"
             ],
             [
              0.2222222222222222,
              "#7201a8"
             ],
             [
              0.3333333333333333,
              "#9c179e"
             ],
             [
              0.4444444444444444,
              "#bd3786"
             ],
             [
              0.5555555555555556,
              "#d8576b"
             ],
             [
              0.6666666666666666,
              "#ed7953"
             ],
             [
              0.7777777777777778,
              "#fb9f3a"
             ],
             [
              0.8888888888888888,
              "#fdca26"
             ],
             [
              1,
              "#f0f921"
             ]
            ],
            "type": "surface"
           }
          ],
          "table": [
           {
            "cells": {
             "fill": {
              "color": "#EBF0F8"
             },
             "line": {
              "color": "white"
             }
            },
            "header": {
             "fill": {
              "color": "#C8D4E3"
             },
             "line": {
              "color": "white"
             }
            },
            "type": "table"
           }
          ]
         },
         "layout": {
          "annotationdefaults": {
           "arrowcolor": "#2a3f5f",
           "arrowhead": 0,
           "arrowwidth": 1
          },
          "autotypenumbers": "strict",
          "coloraxis": {
           "colorbar": {
            "outlinewidth": 0,
            "ticks": ""
           }
          },
          "colorscale": {
           "diverging": [
            [
             0,
             "#8e0152"
            ],
            [
             0.1,
             "#c51b7d"
            ],
            [
             0.2,
             "#de77ae"
            ],
            [
             0.3,
             "#f1b6da"
            ],
            [
             0.4,
             "#fde0ef"
            ],
            [
             0.5,
             "#f7f7f7"
            ],
            [
             0.6,
             "#e6f5d0"
            ],
            [
             0.7,
             "#b8e186"
            ],
            [
             0.8,
             "#7fbc41"
            ],
            [
             0.9,
             "#4d9221"
            ],
            [
             1,
             "#276419"
            ]
           ],
           "sequential": [
            [
             0,
             "#0d0887"
            ],
            [
             0.1111111111111111,
             "#46039f"
            ],
            [
             0.2222222222222222,
             "#7201a8"
            ],
            [
             0.3333333333333333,
             "#9c179e"
            ],
            [
             0.4444444444444444,
             "#bd3786"
            ],
            [
             0.5555555555555556,
             "#d8576b"
            ],
            [
             0.6666666666666666,
             "#ed7953"
            ],
            [
             0.7777777777777778,
             "#fb9f3a"
            ],
            [
             0.8888888888888888,
             "#fdca26"
            ],
            [
             1,
             "#f0f921"
            ]
           ],
           "sequentialminus": [
            [
             0,
             "#0d0887"
            ],
            [
             0.1111111111111111,
             "#46039f"
            ],
            [
             0.2222222222222222,
             "#7201a8"
            ],
            [
             0.3333333333333333,
             "#9c179e"
            ],
            [
             0.4444444444444444,
             "#bd3786"
            ],
            [
             0.5555555555555556,
             "#d8576b"
            ],
            [
             0.6666666666666666,
             "#ed7953"
            ],
            [
             0.7777777777777778,
             "#fb9f3a"
            ],
            [
             0.8888888888888888,
             "#fdca26"
            ],
            [
             1,
             "#f0f921"
            ]
           ]
          },
          "colorway": [
           "#636efa",
           "#EF553B",
           "#00cc96",
           "#ab63fa",
           "#FFA15A",
           "#19d3f3",
           "#FF6692",
           "#B6E880",
           "#FF97FF",
           "#FECB52"
          ],
          "font": {
           "color": "#2a3f5f"
          },
          "geo": {
           "bgcolor": "white",
           "lakecolor": "white",
           "landcolor": "#E5ECF6",
           "showlakes": true,
           "showland": true,
           "subunitcolor": "white"
          },
          "hoverlabel": {
           "align": "left"
          },
          "hovermode": "closest",
          "mapbox": {
           "style": "light"
          },
          "paper_bgcolor": "white",
          "plot_bgcolor": "#E5ECF6",
          "polar": {
           "angularaxis": {
            "gridcolor": "white",
            "linecolor": "white",
            "ticks": ""
           },
           "bgcolor": "#E5ECF6",
           "radialaxis": {
            "gridcolor": "white",
            "linecolor": "white",
            "ticks": ""
           }
          },
          "scene": {
           "xaxis": {
            "backgroundcolor": "#E5ECF6",
            "gridcolor": "white",
            "gridwidth": 2,
            "linecolor": "white",
            "showbackground": true,
            "ticks": "",
            "zerolinecolor": "white"
           },
           "yaxis": {
            "backgroundcolor": "#E5ECF6",
            "gridcolor": "white",
            "gridwidth": 2,
            "linecolor": "white",
            "showbackground": true,
            "ticks": "",
            "zerolinecolor": "white"
           },
           "zaxis": {
            "backgroundcolor": "#E5ECF6",
            "gridcolor": "white",
            "gridwidth": 2,
            "linecolor": "white",
            "showbackground": true,
            "ticks": "",
            "zerolinecolor": "white"
           }
          },
          "shapedefaults": {
           "line": {
            "color": "#2a3f5f"
           }
          },
          "ternary": {
           "aaxis": {
            "gridcolor": "white",
            "linecolor": "white",
            "ticks": ""
           },
           "baxis": {
            "gridcolor": "white",
            "linecolor": "white",
            "ticks": ""
           },
           "bgcolor": "#E5ECF6",
           "caxis": {
            "gridcolor": "white",
            "linecolor": "white",
            "ticks": ""
           }
          },
          "title": {
           "x": 0.05
          },
          "xaxis": {
           "automargin": true,
           "gridcolor": "white",
           "linecolor": "white",
           "ticks": "",
           "title": {
            "standoff": 15
           },
           "zerolinecolor": "white",
           "zerolinewidth": 2
          },
          "yaxis": {
           "automargin": true,
           "gridcolor": "white",
           "linecolor": "white",
           "ticks": "",
           "title": {
            "standoff": 15
           },
           "zerolinecolor": "white",
           "zerolinewidth": 2
          }
         }
        },
        "title": {
         "font": {
          "family": "Arial, Helvetica, sans-serif",
          "size": 24
         },
         "text": "Shooting Analysis: Liverpool vs. Spurs"
        },
        "xaxis": {
         "anchor": "y",
         "domain": [
          0,
          0.45
         ],
         "tickfont": {
          "color": "#ECF0F1"
         },
         "title": {
          "font": {
           "color": "#ECF0F1"
          },
          "standoff": 12
         }
        },
        "xaxis2": {
         "anchor": "y2",
         "domain": [
          0.55,
          1
         ],
         "tickfont": {
          "color": "#ECF0F1"
         },
         "title": {
          "font": {
           "color": "#ECF0F1"
          },
          "standoff": 12
         }
        },
        "yaxis": {
         "anchor": "x",
         "domain": [
          0,
          1
         ],
         "gridcolor": "#7F8C8D",
         "gridwidth": 0.5,
         "showgrid": true,
         "tickfont": {
          "color": "#ECF0F1"
         },
         "title": {
          "font": {
           "color": "#ECF0F1"
          },
          "standoff": 12,
          "text": "Percentage (%)"
         }
        },
        "yaxis2": {
         "anchor": "x2",
         "domain": [
          0,
          1
         ],
         "gridcolor": "#7F8C8D",
         "gridwidth": 0.5,
         "matches": "y",
         "showgrid": true,
         "showticklabels": false,
         "tickfont": {
          "color": "#ECF0F1"
         },
         "title": {
          "font": {
           "color": "#ECF0F1"
          },
          "standoff": 12
         }
        }
       }
      },
      "text/html": [
       "<div>                            <div id=\"2eb0540d-0f78-4d76-ba5c-82b3610bea79\" class=\"plotly-graph-div\" style=\"height:525px; width:100%;\"></div>            <script type=\"text/javascript\">                require([\"plotly\"], function(Plotly) {                    window.PLOTLYENV=window.PLOTLYENV || {};                                    if (document.getElementById(\"2eb0540d-0f78-4d76-ba5c-82b3610bea79\")) {                    Plotly.newPlot(                        \"2eb0540d-0f78-4d76-ba5c-82b3610bea79\",                        [{\"hoverinfo\":\"text+name\",\"marker\":{\"color\":\"#D32F2F\"},\"name\":\"Blocked\",\"text\":[\"30.32%\",\"31.37%\"],\"x\":[\"Liverpool\",\"Spurs\"],\"y\":[30.32258064516129,31.372549019607842],\"type\":\"bar\",\"xaxis\":\"x\",\"yaxis\":\"y\"},{\"hoverinfo\":\"text+name\",\"marker\":{\"color\":\"#FBC02D\"},\"name\":\"Off Target\",\"text\":[\"40.00%\",\"30.72%\"],\"x\":[\"Liverpool\",\"Spurs\"],\"y\":[40.0,30.718954248366014],\"type\":\"bar\",\"xaxis\":\"x\",\"yaxis\":\"y\"},{\"hoverinfo\":\"text+name\",\"marker\":{\"color\":\"#388E3C\"},\"name\":\"On Target\",\"text\":[\"29.68%\",\"37.91%\"],\"x\":[\"Liverpool\",\"Spurs\"],\"y\":[29.677419354838708,37.908496732026144],\"type\":\"bar\",\"xaxis\":\"x\",\"yaxis\":\"y\"},{\"hoverinfo\":\"text+name\",\"marker\":{\"color\":\"#1976D2\"},\"name\":\"Insidebox\",\"text\":[\"63.87%\",\"62.75%\"],\"x\":[\"Liverpool\",\"Spurs\"],\"y\":[63.87096774193548,62.745098039215684],\"type\":\"bar\",\"xaxis\":\"x2\",\"yaxis\":\"y2\"},{\"hoverinfo\":\"text+name\",\"marker\":{\"color\":\"#8E24AA\"},\"name\":\"Outsidebox\",\"text\":[\"36.13%\",\"37.25%\"],\"x\":[\"Liverpool\",\"Spurs\"],\"y\":[36.12903225806451,37.254901960784316],\"type\":\"bar\",\"xaxis\":\"x2\",\"yaxis\":\"y2\"}],                        {\"template\":{\"data\":{\"histogram2dcontour\":[{\"type\":\"histogram2dcontour\",\"colorbar\":{\"outlinewidth\":0,\"ticks\":\"\"},\"colorscale\":[[0.0,\"#0d0887\"],[0.1111111111111111,\"#46039f\"],[0.2222222222222222,\"#7201a8\"],[0.3333333333333333,\"#9c179e\"],[0.4444444444444444,\"#bd3786\"],[0.5555555555555556,\"#d8576b\"],[0.6666666666666666,\"#ed7953\"],[0.7777777777777778,\"#fb9f3a\"],[0.8888888888888888,\"#fdca26\"],[1.0,\"#f0f921\"]]}],\"choropleth\":[{\"type\":\"choropleth\",\"colorbar\":{\"outlinewidth\":0,\"ticks\":\"\"}}],\"histogram2d\":[{\"type\":\"histogram2d\",\"colorbar\":{\"outlinewidth\":0,\"ticks\":\"\"},\"colorscale\":[[0.0,\"#0d0887\"],[0.1111111111111111,\"#46039f\"],[0.2222222222222222,\"#7201a8\"],[0.3333333333333333,\"#9c179e\"],[0.4444444444444444,\"#bd3786\"],[0.5555555555555556,\"#d8576b\"],[0.6666666666666666,\"#ed7953\"],[0.7777777777777778,\"#fb9f3a\"],[0.8888888888888888,\"#fdca26\"],[1.0,\"#f0f921\"]]}],\"heatmap\":[{\"type\":\"heatmap\",\"colorbar\":{\"outlinewidth\":0,\"ticks\":\"\"},\"colorscale\":[[0.0,\"#0d0887\"],[0.1111111111111111,\"#46039f\"],[0.2222222222222222,\"#7201a8\"],[0.3333333333333333,\"#9c179e\"],[0.4444444444444444,\"#bd3786\"],[0.5555555555555556,\"#d8576b\"],[0.6666666666666666,\"#ed7953\"],[0.7777777777777778,\"#fb9f3a\"],[0.8888888888888888,\"#fdca26\"],[1.0,\"#f0f921\"]]}],\"heatmapgl\":[{\"type\":\"heatmapgl\",\"colorbar\":{\"outlinewidth\":0,\"ticks\":\"\"},\"colorscale\":[[0.0,\"#0d0887\"],[0.1111111111111111,\"#46039f\"],[0.2222222222222222,\"#7201a8\"],[0.3333333333333333,\"#9c179e\"],[0.4444444444444444,\"#bd3786\"],[0.5555555555555556,\"#d8576b\"],[0.6666666666666666,\"#ed7953\"],[0.7777777777777778,\"#fb9f3a\"],[0.8888888888888888,\"#fdca26\"],[1.0,\"#f0f921\"]]}],\"contourcarpet\":[{\"type\":\"contourcarpet\",\"colorbar\":{\"outlinewidth\":0,\"ticks\":\"\"}}],\"contour\":[{\"type\":\"contour\",\"colorbar\":{\"outlinewidth\":0,\"ticks\":\"\"},\"colorscale\":[[0.0,\"#0d0887\"],[0.1111111111111111,\"#46039f\"],[0.2222222222222222,\"#7201a8\"],[0.3333333333333333,\"#9c179e\"],[0.4444444444444444,\"#bd3786\"],[0.5555555555555556,\"#d8576b\"],[0.6666666666666666,\"#ed7953\"],[0.7777777777777778,\"#fb9f3a\"],[0.8888888888888888,\"#fdca26\"],[1.0,\"#f0f921\"]]}],\"surface\":[{\"type\":\"surface\",\"colorbar\":{\"outlinewidth\":0,\"ticks\":\"\"},\"colorscale\":[[0.0,\"#0d0887\"],[0.1111111111111111,\"#46039f\"],[0.2222222222222222,\"#7201a8\"],[0.3333333333333333,\"#9c179e\"],[0.4444444444444444,\"#bd3786\"],[0.5555555555555556,\"#d8576b\"],[0.6666666666666666,\"#ed7953\"],[0.7777777777777778,\"#fb9f3a\"],[0.8888888888888888,\"#fdca26\"],[1.0,\"#f0f921\"]]}],\"mesh3d\":[{\"type\":\"mesh3d\",\"colorbar\":{\"outlinewidth\":0,\"ticks\":\"\"}}],\"scatter\":[{\"fillpattern\":{\"fillmode\":\"overlay\",\"size\":10,\"solidity\":0.2},\"type\":\"scatter\"}],\"parcoords\":[{\"type\":\"parcoords\",\"line\":{\"colorbar\":{\"outlinewidth\":0,\"ticks\":\"\"}}}],\"scatterpolargl\":[{\"type\":\"scatterpolargl\",\"marker\":{\"colorbar\":{\"outlinewidth\":0,\"ticks\":\"\"}}}],\"bar\":[{\"error_x\":{\"color\":\"#2a3f5f\"},\"error_y\":{\"color\":\"#2a3f5f\"},\"marker\":{\"line\":{\"color\":\"#E5ECF6\",\"width\":0.5},\"pattern\":{\"fillmode\":\"overlay\",\"size\":10,\"solidity\":0.2}},\"type\":\"bar\"}],\"scattergeo\":[{\"type\":\"scattergeo\",\"marker\":{\"colorbar\":{\"outlinewidth\":0,\"ticks\":\"\"}}}],\"scatterpolar\":[{\"type\":\"scatterpolar\",\"marker\":{\"colorbar\":{\"outlinewidth\":0,\"ticks\":\"\"}}}],\"histogram\":[{\"marker\":{\"pattern\":{\"fillmode\":\"overlay\",\"size\":10,\"solidity\":0.2}},\"type\":\"histogram\"}],\"scattergl\":[{\"type\":\"scattergl\",\"marker\":{\"colorbar\":{\"outlinewidth\":0,\"ticks\":\"\"}}}],\"scatter3d\":[{\"type\":\"scatter3d\",\"line\":{\"colorbar\":{\"outlinewidth\":0,\"ticks\":\"\"}},\"marker\":{\"colorbar\":{\"outlinewidth\":0,\"ticks\":\"\"}}}],\"scattermapbox\":[{\"type\":\"scattermapbox\",\"marker\":{\"colorbar\":{\"outlinewidth\":0,\"ticks\":\"\"}}}],\"scatterternary\":[{\"type\":\"scatterternary\",\"marker\":{\"colorbar\":{\"outlinewidth\":0,\"ticks\":\"\"}}}],\"scattercarpet\":[{\"type\":\"scattercarpet\",\"marker\":{\"colorbar\":{\"outlinewidth\":0,\"ticks\":\"\"}}}],\"carpet\":[{\"aaxis\":{\"endlinecolor\":\"#2a3f5f\",\"gridcolor\":\"white\",\"linecolor\":\"white\",\"minorgridcolor\":\"white\",\"startlinecolor\":\"#2a3f5f\"},\"baxis\":{\"endlinecolor\":\"#2a3f5f\",\"gridcolor\":\"white\",\"linecolor\":\"white\",\"minorgridcolor\":\"white\",\"startlinecolor\":\"#2a3f5f\"},\"type\":\"carpet\"}],\"table\":[{\"cells\":{\"fill\":{\"color\":\"#EBF0F8\"},\"line\":{\"color\":\"white\"}},\"header\":{\"fill\":{\"color\":\"#C8D4E3\"},\"line\":{\"color\":\"white\"}},\"type\":\"table\"}],\"barpolar\":[{\"marker\":{\"line\":{\"color\":\"#E5ECF6\",\"width\":0.5},\"pattern\":{\"fillmode\":\"overlay\",\"size\":10,\"solidity\":0.2}},\"type\":\"barpolar\"}],\"pie\":[{\"automargin\":true,\"type\":\"pie\"}]},\"layout\":{\"autotypenumbers\":\"strict\",\"colorway\":[\"#636efa\",\"#EF553B\",\"#00cc96\",\"#ab63fa\",\"#FFA15A\",\"#19d3f3\",\"#FF6692\",\"#B6E880\",\"#FF97FF\",\"#FECB52\"],\"font\":{\"color\":\"#2a3f5f\"},\"hovermode\":\"closest\",\"hoverlabel\":{\"align\":\"left\"},\"paper_bgcolor\":\"white\",\"plot_bgcolor\":\"#E5ECF6\",\"polar\":{\"bgcolor\":\"#E5ECF6\",\"angularaxis\":{\"gridcolor\":\"white\",\"linecolor\":\"white\",\"ticks\":\"\"},\"radialaxis\":{\"gridcolor\":\"white\",\"linecolor\":\"white\",\"ticks\":\"\"}},\"ternary\":{\"bgcolor\":\"#E5ECF6\",\"aaxis\":{\"gridcolor\":\"white\",\"linecolor\":\"white\",\"ticks\":\"\"},\"baxis\":{\"gridcolor\":\"white\",\"linecolor\":\"white\",\"ticks\":\"\"},\"caxis\":{\"gridcolor\":\"white\",\"linecolor\":\"white\",\"ticks\":\"\"}},\"coloraxis\":{\"colorbar\":{\"outlinewidth\":0,\"ticks\":\"\"}},\"colorscale\":{\"sequential\":[[0.0,\"#0d0887\"],[0.1111111111111111,\"#46039f\"],[0.2222222222222222,\"#7201a8\"],[0.3333333333333333,\"#9c179e\"],[0.4444444444444444,\"#bd3786\"],[0.5555555555555556,\"#d8576b\"],[0.6666666666666666,\"#ed7953\"],[0.7777777777777778,\"#fb9f3a\"],[0.8888888888888888,\"#fdca26\"],[1.0,\"#f0f921\"]],\"sequentialminus\":[[0.0,\"#0d0887\"],[0.1111111111111111,\"#46039f\"],[0.2222222222222222,\"#7201a8\"],[0.3333333333333333,\"#9c179e\"],[0.4444444444444444,\"#bd3786\"],[0.5555555555555556,\"#d8576b\"],[0.6666666666666666,\"#ed7953\"],[0.7777777777777778,\"#fb9f3a\"],[0.8888888888888888,\"#fdca26\"],[1.0,\"#f0f921\"]],\"diverging\":[[0,\"#8e0152\"],[0.1,\"#c51b7d\"],[0.2,\"#de77ae\"],[0.3,\"#f1b6da\"],[0.4,\"#fde0ef\"],[0.5,\"#f7f7f7\"],[0.6,\"#e6f5d0\"],[0.7,\"#b8e186\"],[0.8,\"#7fbc41\"],[0.9,\"#4d9221\"],[1,\"#276419\"]]},\"xaxis\":{\"gridcolor\":\"white\",\"linecolor\":\"white\",\"ticks\":\"\",\"title\":{\"standoff\":15},\"zerolinecolor\":\"white\",\"automargin\":true,\"zerolinewidth\":2},\"yaxis\":{\"gridcolor\":\"white\",\"linecolor\":\"white\",\"ticks\":\"\",\"title\":{\"standoff\":15},\"zerolinecolor\":\"white\",\"automargin\":true,\"zerolinewidth\":2},\"scene\":{\"xaxis\":{\"backgroundcolor\":\"#E5ECF6\",\"gridcolor\":\"white\",\"linecolor\":\"white\",\"showbackground\":true,\"ticks\":\"\",\"zerolinecolor\":\"white\",\"gridwidth\":2},\"yaxis\":{\"backgroundcolor\":\"#E5ECF6\",\"gridcolor\":\"white\",\"linecolor\":\"white\",\"showbackground\":true,\"ticks\":\"\",\"zerolinecolor\":\"white\",\"gridwidth\":2},\"zaxis\":{\"backgroundcolor\":\"#E5ECF6\",\"gridcolor\":\"white\",\"linecolor\":\"white\",\"showbackground\":true,\"ticks\":\"\",\"zerolinecolor\":\"white\",\"gridwidth\":2}},\"shapedefaults\":{\"line\":{\"color\":\"#2a3f5f\"}},\"annotationdefaults\":{\"arrowcolor\":\"#2a3f5f\",\"arrowhead\":0,\"arrowwidth\":1},\"geo\":{\"bgcolor\":\"white\",\"landcolor\":\"#E5ECF6\",\"subunitcolor\":\"white\",\"showland\":true,\"showlakes\":true,\"lakecolor\":\"white\"},\"title\":{\"x\":0.05},\"mapbox\":{\"style\":\"light\"}}},\"xaxis\":{\"anchor\":\"y\",\"domain\":[0.0,0.45],\"title\":{\"font\":{\"color\":\"#ECF0F1\"},\"standoff\":12},\"tickfont\":{\"color\":\"#ECF0F1\"}},\"yaxis\":{\"anchor\":\"x\",\"domain\":[0.0,1.0],\"title\":{\"text\":\"Percentage (%)\",\"font\":{\"color\":\"#ECF0F1\"},\"standoff\":12},\"tickfont\":{\"color\":\"#ECF0F1\"},\"showgrid\":true,\"gridwidth\":0.5,\"gridcolor\":\"#7F8C8D\"},\"xaxis2\":{\"anchor\":\"y2\",\"domain\":[0.55,1.0],\"title\":{\"font\":{\"color\":\"#ECF0F1\"},\"standoff\":12},\"tickfont\":{\"color\":\"#ECF0F1\"}},\"yaxis2\":{\"anchor\":\"x2\",\"domain\":[0.0,1.0],\"matches\":\"y\",\"showticklabels\":false,\"title\":{\"font\":{\"color\":\"#ECF0F1\"},\"standoff\":12},\"tickfont\":{\"color\":\"#ECF0F1\"},\"showgrid\":true,\"gridwidth\":0.5,\"gridcolor\":\"#7F8C8D\"},\"annotations\":[{\"font\":{\"size\":16},\"showarrow\":false,\"text\":\"Shooting Accuracy (%)\",\"x\":0.225,\"xanchor\":\"center\",\"xref\":\"paper\",\"y\":1.0,\"yanchor\":\"bottom\",\"yref\":\"paper\"},{\"font\":{\"size\":16},\"showarrow\":false,\"text\":\"Shot Location (%)\",\"x\":0.775,\"xanchor\":\"center\",\"xref\":\"paper\",\"y\":1.0,\"yanchor\":\"bottom\",\"yref\":\"paper\"}],\"title\":{\"text\":\"Shooting Analysis: Liverpool vs. Spurs\",\"font\":{\"size\":24,\"family\":\"Arial, Helvetica, sans-serif\"}},\"font\":{\"family\":\"Arial, Helvetica, sans-serif\",\"size\":12,\"color\":\"#ECF0F1\"},\"barmode\":\"stack\",\"plot_bgcolor\":\"#2C3E50\",\"paper_bgcolor\":\"#2C3E50\",\"bargap\":0.3},                        {\"responsive\": true}                    ).then(function(){\n",
       "                            \n",
       "var gd = document.getElementById('2eb0540d-0f78-4d76-ba5c-82b3610bea79');\n",
       "var x = new MutationObserver(function (mutations, observer) {{\n",
       "        var display = window.getComputedStyle(gd).display;\n",
       "        if (!display || display === 'none') {{\n",
       "            console.log([gd, 'removed!']);\n",
       "            Plotly.purge(gd);\n",
       "            observer.disconnect();\n",
       "        }}\n",
       "}});\n",
       "\n",
       "// Listen for the removal of the full notebook cells\n",
       "var notebookContainer = gd.closest('#notebook-container');\n",
       "if (notebookContainer) {{\n",
       "    x.observe(notebookContainer, {childList: true});\n",
       "}}\n",
       "\n",
       "// Listen for the clearing of the current output cell\n",
       "var outputEl = gd.closest('.output');\n",
       "if (outputEl) {{\n",
       "    x.observe(outputEl, {childList: true});\n",
       "}}\n",
       "\n",
       "                        })                };                });            </script>        </div>"
      ]
     },
     "metadata": {},
     "output_type": "display_data"
    }
   ],
   "source": [
    "def plot_shooting_analysis_improved(team1_data, team2_data, team1_name='Liverpool', team2_name='Spurs'):\n",
    "    df1 = pd.DataFrame(team1_data, index=[team1_name])\n",
    "    df2 = pd.DataFrame(team2_data, index=[team2_name])\n",
    "\n",
    "    accuracy_metrics = ['Blocked', 'Off Target', 'On Target']\n",
    "    accuracy_percentages = {}\n",
    "    type_metrics = ['Insidebox', 'Outsidebox']\n",
    "    type_percentages = {}\n",
    "\n",
    "    for team, data in zip([team1_name, team2_name], [team1_data, team2_data]):\n",
    "        for metric in accuracy_metrics:\n",
    "            key = f'{metric} {team}'\n",
    "            accuracy_percentages[key] = (data[f'Shots {metric}'] / data['Shots Total']) * 100\n",
    "        for metric in type_metrics:\n",
    "            key = f'{metric} {team}'\n",
    "            type_percentages[key] = (data[f'Shots {metric}'] / data['Shots Total']) * 100\n",
    "\n",
    "    colors_accuracy = {\n",
    "        'Blocked': '#D32F2F',\n",
    "        'Off Target': '#FBC02D',\n",
    "        'On Target': '#388E3C'\n",
    "    }\n",
    "\n",
    "    colors_type = {\n",
    "        'Insidebox': '#1976D2',\n",
    "        'Outsidebox': '#8E24AA'\n",
    "    }\n",
    "\n",
    "    fig = make_subplots(rows=1, cols=2, shared_yaxes=True, subplot_titles=('Shooting Accuracy (%)', 'Shot Location (%)'))\n",
    "\n",
    "    for metric in accuracy_metrics:\n",
    "        y_values = [accuracy_percentages[f'{metric} {team1_name}'], accuracy_percentages[f'{metric} {team2_name}']]\n",
    "        fig.add_trace(go.Bar(\n",
    "            x=[team1_name, team2_name],\n",
    "            y=y_values,\n",
    "            name=metric,\n",
    "            marker_color=colors_accuracy[metric],\n",
    "            text=[f'{val:.2f}%' for val in y_values],  # Formatting values to 2 decimal places\n",
    "            hoverinfo='text+name'\n",
    "        ), row=1, col=1)\n",
    "\n",
    "    for metric in type_metrics:\n",
    "        y_values = [type_percentages[f'{metric} {team1_name}'], type_percentages[f'{metric} {team2_name}']]\n",
    "        fig.add_trace(go.Bar(\n",
    "            x=[team1_name, team2_name],\n",
    "            y=y_values,\n",
    "            name=metric,\n",
    "            marker_color=colors_type[metric],\n",
    "            text=[f'{val:.2f}%' for val in y_values],  # Formatting values to 2 decimal places\n",
    "            hoverinfo='text+name'\n",
    "        ), row=1, col=2)\n",
    "\n",
    "    fig.update_layout(\n",
    "        barmode='stack',\n",
    "        title=f'Shooting Analysis: {team1_name} vs. {team2_name}',\n",
    "        title_font=dict(size=24, family='Arial, Helvetica, sans-serif'),\n",
    "        yaxis_title='Percentage (%)',\n",
    "        plot_bgcolor='#2C3E50',  # Darker Background\n",
    "        paper_bgcolor='#2C3E50', # Darker Background\n",
    "        bargap=0.3,\n",
    "        font=dict(family='Arial, Helvetica, sans-serif', size=12, color='#ECF0F1')  # Font color contrasting with background\n",
    "    )\n",
    "\n",
    "    fig.update_yaxes(title_standoff=12, showgrid=True, gridwidth=0.5, gridcolor='#7F8C8D', tickfont=dict(color='#ECF0F1'), titlefont=dict(color='#ECF0F1'))\n",
    "    fig.update_xaxes(title_standoff=12, tickfont=dict(color='#ECF0F1'), titlefont=dict(color='#ECF0F1'))\n",
    "\n",
    "    fig.show()\n",
    "\n",
    "    \n",
    "team1_data = liverpool[[\"Shots Total\",\"Shots Insidebox\",'Shots Blocked','Shots Outsidebox','Shots Off Target','Shots On Target']].sum()\n",
    "team2_data = spurs[[\"Shots Total\",\"Shots Insidebox\",'Shots Blocked','Shots Outsidebox','Shots Off Target','Shots On Target']].sum()\n",
    "team2_data['Shots Off Target']-=3\n",
    "plot_shooting_analysis_improved(team1_data, team2_data, 'Liverpool', 'Spurs')\n"
   ]
  },
  {
   "cell_type": "code",
   "execution_count": 261,
   "id": "a65a91a2",
   "metadata": {
    "scrolled": true
   },
   "outputs": [],
   "source": [
    "import pandas as pd\n",
    "import seaborn as sns\n",
    "import matplotlib.pyplot as plt\n",
    "import numpy as np\n",
    "import pandas as pd\n",
    "from sklearn.linear_model import Lasso\n",
    "from sklearn.preprocessing import StandardScaler\n",
    "from bokeh.plotting import figure, show, output_notebook\n",
    "from bokeh.models import ColumnDataSource, HoverTool\n",
    "from bokeh.layouts import column\n",
    "from bokeh.palettes import Spectral\n",
    "from bokeh.palettes import Colorblind  # A diverging palette\n",
    "from bokeh.transform import linear_cmap\n",
    "from bokeh.models import ColorBar\n",
    "from bokeh.layouts import layout\n",
    "\n",
    "\n",
    "from bokeh.io import output_notebook, show\n",
    "from bokeh.plotting import figure\n",
    "from bokeh.models import ColumnDataSource, HoverTool, ColorBar, LinearColorMapper\n",
    "from bokeh.transform import linear_cmap\n",
    "from bokeh.palettes import RdBu11\n",
    "import numpy as np\n",
    "from sklearn.preprocessing import StandardScaler\n",
    "from sklearn.linear_model import Lasso\n",
    "from bokeh.palettes import Magma256\n",
    "from bokeh.models import LinearColorMapper\n",
    "from bokeh.palettes import RdYlGn\n",
    "\n",
    "\n",
    "liverpool = pd.read_csv('liverpool.csv')\n",
    "\n",
    "liverpool.columns\n",
    "\n",
    "spurs = pd.read_csv('spurs.csv')\n",
    "\n",
    "spurs.columns\n",
    "\n",
    "def analyze_football_data(df_original:pd.DataFrame,team_name:str):\n",
    "    df = df_original.copy()\n",
    "\n",
    "    df['Fouled Against'] = df['Free Kicks'] + df['Penalties']\n",
    "    df['Set Pieces'] = df['Free Kicks'] + df['Penalties'] + df['Corners']\n",
    "    df['Defensive Actions'] = df['Tackles'] + df['Shots Blocked'] + df['Successful Interceptions'] + df['Challenges']\n",
    "    df['Discipline'] = df['Redcards'] + df['Yellowcards'] + df['Fouls']\n",
    "    df['Aerial Dominance'] = df['Successful Headers'] / df['Headers']\n",
    "\n",
    "    columns_to_drop = ['Corners', 'Throwins', 'Free Kicks', 'Tackles', 'Shots Blocked', 'Challenges', 'Successful Interceptions', 'Redcards', 'Yellowcards', \n",
    "                       'Fouls', 'Headers', 'Successful Headers']\n",
    "    df.drop(columns=columns_to_drop, inplace=True, errors='ignore')\n",
    "\n",
    "    df_numerical = df.select_dtypes(include=[np.number])\n",
    "    df = df_numerical.iloc[:-1].drop(columns=['1st_half_scored', '2nd_half_scored', '1st_half_conceded', '2nd_half_conceded'])\n",
    "\n",
    "    X = df.drop(\"Goals\", axis=1)\n",
    "    y = df[\"Goals\"]\n",
    "\n",
    "    scaler = StandardScaler()\n",
    "    X_scaled = scaler.fit_transform(X)\n",
    "    lasso = Lasso(alpha=0.05)\n",
    "    lasso.fit(X_scaled, y)\n",
    "    coefficients = pd.Series(lasso.coef_, index=X.columns)\n",
    "    important_coeffs = coefficients[coefficients != 0].sort_values(key=lambda x: abs(x), ascending=True)\n",
    "    coefficients = important_coeffs.to_dict()\n",
    "\n",
    "    features = list(coefficients.keys())\n",
    "    values = list(coefficients.values())\n",
    "    reds = RdYlGn[11][:5][::-1]  \n",
    "    greens = RdYlGn[11][6:][::-1]      # Extract the green shades\n",
    "    palette = greens + reds      # Combine the palettes\n",
    "    mapper = linear_cmap(field_name='values', palette=palette, low=-max(values), high=max(values))\n",
    "    source = ColumnDataSource(data=dict(features=features, values=values))\n",
    "\n",
    "    output_notebook()\n",
    "    p = figure(y_range=features, height=300, width=700, title=\"Feature Coefficients\", toolbar_location=\"above\", tools=\"pan,wheel_zoom,reset\")\n",
    "    p.hbar(y='features', left=0, right='values', height=0.4, source=source, color=mapper)\n",
    "\n",
    "    color_bar = ColorBar(color_mapper=mapper['transform'], width=8, location=(0,0))\n",
    "    p.add_layout(color_bar, 'right')\n",
    "\n",
    "    hover = HoverTool()\n",
    "    hover.tooltips = [(\"Feature\", \"@features\"), (\"Coefficient\", \"@values\")]\n",
    "    p.add_tools(hover)\n",
    "    p.xaxis.axis_label = \"Coefficient Value\"\n",
    "    p.yaxis.axis_label = \"Features\"\n",
    "    p.title.text = f'Impact of Features on {team_name}\\'s Goals'\n",
    "\n",
    "    p.title.text_font_size = '16pt'\n",
    "    p.xaxis.axis_label_standoff = 12\n",
    "    p.yaxis.axis_label_standoff = 12\n",
    "    p.line([0, 0], [0, len(features)], line_width=2, color='black', line_dash='dashed')\n",
    "\n",
    "    show(p)\n"
   ]
  },
  {
   "cell_type": "code",
   "execution_count": 262,
   "id": "a238b24d",
   "metadata": {},
   "outputs": [
    {
     "data": {
      "text/html": [
       "<style>\n",
       "        .bk-notebook-logo {\n",
       "            display: block;\n",
       "            width: 20px;\n",
       "            height: 20px;\n",
       "            background-image: url(data:image/png;base64,iVBORw0KGgoAAAANSUhEUgAAABQAAAAUCAYAAACNiR0NAAAABHNCSVQICAgIfAhkiAAAAAlwSFlzAAALEgAACxIB0t1+/AAAABx0RVh0U29mdHdhcmUAQWRvYmUgRmlyZXdvcmtzIENTNui8sowAAAOkSURBVDiNjZRtaJVlGMd/1/08zzln5zjP1LWcU9N0NkN8m2CYjpgQYQXqSs0I84OLIC0hkEKoPtiH3gmKoiJDU7QpLgoLjLIQCpEsNJ1vqUOdO7ppbuec5+V+rj4ctwzd8IIbbi6u+8f1539dt3A78eXC7QizUF7gyV1fD1Yqg4JWz84yffhm0qkFqBogB9rM8tZdtwVsPUhWhGcFJngGeWrPzHm5oaMmkfEg1usvLFyc8jLRqDOMru7AyC8saQr7GG7f5fvDeH7Ej8CM66nIF+8yngt6HWaKh7k49Soy9nXurCi1o3qUbS3zWfrYeQDTB/Qj6kX6Ybhw4B+bOYoLKCC9H3Nu/leUTZ1JdRWkkn2ldcCamzrcf47KKXdAJllSlxAOkRgyHsGC/zRday5Qld9DyoM4/q/rUoy/CXh3jzOu3bHUVZeU+DEn8FInkPBFlu3+nW3Nw0mk6vCDiWg8CeJaxEwuHS3+z5RgY+YBR6V1Z1nxSOfoaPa4LASWxxdNp+VWTk7+4vzaou8v8PN+xo+KY2xsw6une2frhw05CTYOmQvsEhjhWjn0bmXPjpE1+kplmmkP3suftwTubK9Vq22qKmrBhpY4jvd5afdRA3wGjFAgcnTK2s4hY0/GPNIb0nErGMCRxWOOX64Z8RAC4oCXdklmEvcL8o0BfkNK4lUg9HTl+oPlQxdNo3Mg4Nv175e/1LDGzZen30MEjRUtmXSfiTVu1kK8W4txyV6BMKlbgk3lMwYCiusNy9fVfvvwMxv8Ynl6vxoByANLTWplvuj/nF9m2+PDtt1eiHPBr1oIfhCChQMBw6Aw0UulqTKZdfVvfG7VcfIqLG9bcldL/+pdWTLxLUy8Qq38heUIjh4XlzZxzQm19lLFlr8vdQ97rjZVOLf8nclzckbcD4wxXMidpX30sFd37Fv/GtwwhzhxGVAprjbg0gCAEeIgwCZyTV2Z1REEW8O4py0wsjeloKoMr6iCY6dP92H6Vw/oTyICIthibxjm/DfN9lVz8IqtqKYLUXfoKVMVQVVJOElGjrnnUt9T9wbgp8AyYKaGlqingHZU/uG2NTZSVqwHQTWkx9hxjkpWDaCg6Ckj5qebgBVbT3V3NNXMSiWSDdGV3hrtzla7J+duwPOToIg42ChPQOQjspnSlp1V+Gjdged7+8UN5CRAV7a5EdFNwCjEaBR27b3W890TE7g24NAP/mMDXRWrGoFPQI9ls/MWO2dWFAar/xcOIImbbpA3zgAAAABJRU5ErkJggg==);\n",
       "        }\n",
       "    </style>\n",
       "    <div>\n",
       "        <a href=\"https://bokeh.org\" target=\"_blank\" class=\"bk-notebook-logo\"></a>\n",
       "        <span id=\"dd4930f7-c6e5-4c9a-8b58-160ef97bf146\">Loading BokehJS ...</span>\n",
       "    </div>\n"
      ]
     },
     "metadata": {},
     "output_type": "display_data"
    },
    {
     "data": {
      "application/javascript": [
       "(function(root) {\n",
       "  function now() {\n",
       "    return new Date();\n",
       "  }\n",
       "\n",
       "  const force = true;\n",
       "\n",
       "  if (typeof root._bokeh_onload_callbacks === \"undefined\" || force === true) {\n",
       "    root._bokeh_onload_callbacks = [];\n",
       "    root._bokeh_is_loading = undefined;\n",
       "  }\n",
       "\n",
       "const JS_MIME_TYPE = 'application/javascript';\n",
       "  const HTML_MIME_TYPE = 'text/html';\n",
       "  const EXEC_MIME_TYPE = 'application/vnd.bokehjs_exec.v0+json';\n",
       "  const CLASS_NAME = 'output_bokeh rendered_html';\n",
       "\n",
       "  /**\n",
       "   * Render data to the DOM node\n",
       "   */\n",
       "  function render(props, node) {\n",
       "    const script = document.createElement(\"script\");\n",
       "    node.appendChild(script);\n",
       "  }\n",
       "\n",
       "  /**\n",
       "   * Handle when an output is cleared or removed\n",
       "   */\n",
       "  function handleClearOutput(event, handle) {\n",
       "    const cell = handle.cell;\n",
       "\n",
       "    const id = cell.output_area._bokeh_element_id;\n",
       "    const server_id = cell.output_area._bokeh_server_id;\n",
       "    // Clean up Bokeh references\n",
       "    if (id != null && id in Bokeh.index) {\n",
       "      Bokeh.index[id].model.document.clear();\n",
       "      delete Bokeh.index[id];\n",
       "    }\n",
       "\n",
       "    if (server_id !== undefined) {\n",
       "      // Clean up Bokeh references\n",
       "      const cmd_clean = \"from bokeh.io.state import curstate; print(curstate().uuid_to_server['\" + server_id + \"'].get_sessions()[0].document.roots[0]._id)\";\n",
       "      cell.notebook.kernel.execute(cmd_clean, {\n",
       "        iopub: {\n",
       "          output: function(msg) {\n",
       "            const id = msg.content.text.trim();\n",
       "            if (id in Bokeh.index) {\n",
       "              Bokeh.index[id].model.document.clear();\n",
       "              delete Bokeh.index[id];\n",
       "            }\n",
       "          }\n",
       "        }\n",
       "      });\n",
       "      // Destroy server and session\n",
       "      const cmd_destroy = \"import bokeh.io.notebook as ion; ion.destroy_server('\" + server_id + \"')\";\n",
       "      cell.notebook.kernel.execute(cmd_destroy);\n",
       "    }\n",
       "  }\n",
       "\n",
       "  /**\n",
       "   * Handle when a new output is added\n",
       "   */\n",
       "  function handleAddOutput(event, handle) {\n",
       "    const output_area = handle.output_area;\n",
       "    const output = handle.output;\n",
       "\n",
       "    // limit handleAddOutput to display_data with EXEC_MIME_TYPE content only\n",
       "    if ((output.output_type != \"display_data\") || (!Object.prototype.hasOwnProperty.call(output.data, EXEC_MIME_TYPE))) {\n",
       "      return\n",
       "    }\n",
       "\n",
       "    const toinsert = output_area.element.find(\".\" + CLASS_NAME.split(' ')[0]);\n",
       "\n",
       "    if (output.metadata[EXEC_MIME_TYPE][\"id\"] !== undefined) {\n",
       "      toinsert[toinsert.length - 1].firstChild.textContent = output.data[JS_MIME_TYPE];\n",
       "      // store reference to embed id on output_area\n",
       "      output_area._bokeh_element_id = output.metadata[EXEC_MIME_TYPE][\"id\"];\n",
       "    }\n",
       "    if (output.metadata[EXEC_MIME_TYPE][\"server_id\"] !== undefined) {\n",
       "      const bk_div = document.createElement(\"div\");\n",
       "      bk_div.innerHTML = output.data[HTML_MIME_TYPE];\n",
       "      const script_attrs = bk_div.children[0].attributes;\n",
       "      for (let i = 0; i < script_attrs.length; i++) {\n",
       "        toinsert[toinsert.length - 1].firstChild.setAttribute(script_attrs[i].name, script_attrs[i].value);\n",
       "        toinsert[toinsert.length - 1].firstChild.textContent = bk_div.children[0].textContent\n",
       "      }\n",
       "      // store reference to server id on output_area\n",
       "      output_area._bokeh_server_id = output.metadata[EXEC_MIME_TYPE][\"server_id\"];\n",
       "    }\n",
       "  }\n",
       "\n",
       "  function register_renderer(events, OutputArea) {\n",
       "\n",
       "    function append_mime(data, metadata, element) {\n",
       "      // create a DOM node to render to\n",
       "      const toinsert = this.create_output_subarea(\n",
       "        metadata,\n",
       "        CLASS_NAME,\n",
       "        EXEC_MIME_TYPE\n",
       "      );\n",
       "      this.keyboard_manager.register_events(toinsert);\n",
       "      // Render to node\n",
       "      const props = {data: data, metadata: metadata[EXEC_MIME_TYPE]};\n",
       "      render(props, toinsert[toinsert.length - 1]);\n",
       "      element.append(toinsert);\n",
       "      return toinsert\n",
       "    }\n",
       "\n",
       "    /* Handle when an output is cleared or removed */\n",
       "    events.on('clear_output.CodeCell', handleClearOutput);\n",
       "    events.on('delete.Cell', handleClearOutput);\n",
       "\n",
       "    /* Handle when a new output is added */\n",
       "    events.on('output_added.OutputArea', handleAddOutput);\n",
       "\n",
       "    /**\n",
       "     * Register the mime type and append_mime function with output_area\n",
       "     */\n",
       "    OutputArea.prototype.register_mime_type(EXEC_MIME_TYPE, append_mime, {\n",
       "      /* Is output safe? */\n",
       "      safe: true,\n",
       "      /* Index of renderer in `output_area.display_order` */\n",
       "      index: 0\n",
       "    });\n",
       "  }\n",
       "\n",
       "  // register the mime type if in Jupyter Notebook environment and previously unregistered\n",
       "  if (root.Jupyter !== undefined) {\n",
       "    const events = require('base/js/events');\n",
       "    const OutputArea = require('notebook/js/outputarea').OutputArea;\n",
       "\n",
       "    if (OutputArea.prototype.mime_types().indexOf(EXEC_MIME_TYPE) == -1) {\n",
       "      register_renderer(events, OutputArea);\n",
       "    }\n",
       "  }\n",
       "  if (typeof (root._bokeh_timeout) === \"undefined\" || force === true) {\n",
       "    root._bokeh_timeout = Date.now() + 5000;\n",
       "    root._bokeh_failed_load = false;\n",
       "  }\n",
       "\n",
       "  const NB_LOAD_WARNING = {'data': {'text/html':\n",
       "     \"<div style='background-color: #fdd'>\\n\"+\n",
       "     \"<p>\\n\"+\n",
       "     \"BokehJS does not appear to have successfully loaded. If loading BokehJS from CDN, this \\n\"+\n",
       "     \"may be due to a slow or bad network connection. Possible fixes:\\n\"+\n",
       "     \"</p>\\n\"+\n",
       "     \"<ul>\\n\"+\n",
       "     \"<li>re-rerun `output_notebook()` to attempt to load from CDN again, or</li>\\n\"+\n",
       "     \"<li>use INLINE resources instead, as so:</li>\\n\"+\n",
       "     \"</ul>\\n\"+\n",
       "     \"<code>\\n\"+\n",
       "     \"from bokeh.resources import INLINE\\n\"+\n",
       "     \"output_notebook(resources=INLINE)\\n\"+\n",
       "     \"</code>\\n\"+\n",
       "     \"</div>\"}};\n",
       "\n",
       "  function display_loaded() {\n",
       "    const el = document.getElementById(\"dd4930f7-c6e5-4c9a-8b58-160ef97bf146\");\n",
       "    if (el != null) {\n",
       "      el.textContent = \"BokehJS is loading...\";\n",
       "    }\n",
       "    if (root.Bokeh !== undefined) {\n",
       "      if (el != null) {\n",
       "        el.textContent = \"BokehJS \" + root.Bokeh.version + \" successfully loaded.\";\n",
       "      }\n",
       "    } else if (Date.now() < root._bokeh_timeout) {\n",
       "      setTimeout(display_loaded, 100)\n",
       "    }\n",
       "  }\n",
       "\n",
       "  function run_callbacks() {\n",
       "    try {\n",
       "      root._bokeh_onload_callbacks.forEach(function(callback) {\n",
       "        if (callback != null)\n",
       "          callback();\n",
       "      });\n",
       "    } finally {\n",
       "      delete root._bokeh_onload_callbacks\n",
       "    }\n",
       "    console.debug(\"Bokeh: all callbacks have finished\");\n",
       "  }\n",
       "\n",
       "  function load_libs(css_urls, js_urls, callback) {\n",
       "    if (css_urls == null) css_urls = [];\n",
       "    if (js_urls == null) js_urls = [];\n",
       "\n",
       "    root._bokeh_onload_callbacks.push(callback);\n",
       "    if (root._bokeh_is_loading > 0) {\n",
       "      console.debug(\"Bokeh: BokehJS is being loaded, scheduling callback at\", now());\n",
       "      return null;\n",
       "    }\n",
       "    if (js_urls == null || js_urls.length === 0) {\n",
       "      run_callbacks();\n",
       "      return null;\n",
       "    }\n",
       "    console.debug(\"Bokeh: BokehJS not loaded, scheduling load and callback at\", now());\n",
       "    root._bokeh_is_loading = css_urls.length + js_urls.length;\n",
       "\n",
       "    function on_load() {\n",
       "      root._bokeh_is_loading--;\n",
       "      if (root._bokeh_is_loading === 0) {\n",
       "        console.debug(\"Bokeh: all BokehJS libraries/stylesheets loaded\");\n",
       "        run_callbacks()\n",
       "      }\n",
       "    }\n",
       "\n",
       "    function on_error(url) {\n",
       "      console.error(\"failed to load \" + url);\n",
       "    }\n",
       "\n",
       "    for (let i = 0; i < css_urls.length; i++) {\n",
       "      const url = css_urls[i];\n",
       "      const element = document.createElement(\"link\");\n",
       "      element.onload = on_load;\n",
       "      element.onerror = on_error.bind(null, url);\n",
       "      element.rel = \"stylesheet\";\n",
       "      element.type = \"text/css\";\n",
       "      element.href = url;\n",
       "      console.debug(\"Bokeh: injecting link tag for BokehJS stylesheet: \", url);\n",
       "      document.body.appendChild(element);\n",
       "    }\n",
       "\n",
       "    for (let i = 0; i < js_urls.length; i++) {\n",
       "      const url = js_urls[i];\n",
       "      const element = document.createElement('script');\n",
       "      element.onload = on_load;\n",
       "      element.onerror = on_error.bind(null, url);\n",
       "      element.async = false;\n",
       "      element.src = url;\n",
       "      console.debug(\"Bokeh: injecting script tag for BokehJS library: \", url);\n",
       "      document.head.appendChild(element);\n",
       "    }\n",
       "  };\n",
       "\n",
       "  function inject_raw_css(css) {\n",
       "    const element = document.createElement(\"style\");\n",
       "    element.appendChild(document.createTextNode(css));\n",
       "    document.body.appendChild(element);\n",
       "  }\n",
       "\n",
       "  const js_urls = [\"https://cdn.bokeh.org/bokeh/release/bokeh-3.2.1.min.js\", \"https://cdn.bokeh.org/bokeh/release/bokeh-gl-3.2.1.min.js\", \"https://cdn.bokeh.org/bokeh/release/bokeh-widgets-3.2.1.min.js\", \"https://cdn.bokeh.org/bokeh/release/bokeh-tables-3.2.1.min.js\", \"https://cdn.bokeh.org/bokeh/release/bokeh-mathjax-3.2.1.min.js\"];\n",
       "  const css_urls = [];\n",
       "\n",
       "  const inline_js = [    function(Bokeh) {\n",
       "      Bokeh.set_log_level(\"info\");\n",
       "    },\n",
       "function(Bokeh) {\n",
       "    }\n",
       "  ];\n",
       "\n",
       "  function run_inline_js() {\n",
       "    if (root.Bokeh !== undefined || force === true) {\n",
       "          for (let i = 0; i < inline_js.length; i++) {\n",
       "      inline_js[i].call(root, root.Bokeh);\n",
       "    }\n",
       "if (force === true) {\n",
       "        display_loaded();\n",
       "      }} else if (Date.now() < root._bokeh_timeout) {\n",
       "      setTimeout(run_inline_js, 100);\n",
       "    } else if (!root._bokeh_failed_load) {\n",
       "      console.log(\"Bokeh: BokehJS failed to load within specified timeout.\");\n",
       "      root._bokeh_failed_load = true;\n",
       "    } else if (force !== true) {\n",
       "      const cell = $(document.getElementById(\"dd4930f7-c6e5-4c9a-8b58-160ef97bf146\")).parents('.cell').data().cell;\n",
       "      cell.output_area.append_execute_result(NB_LOAD_WARNING)\n",
       "    }\n",
       "  }\n",
       "\n",
       "  if (root._bokeh_is_loading === 0) {\n",
       "    console.debug(\"Bokeh: BokehJS loaded, going straight to plotting\");\n",
       "    run_inline_js();\n",
       "  } else {\n",
       "    load_libs(css_urls, js_urls, function() {\n",
       "      console.debug(\"Bokeh: BokehJS plotting callback run at\", now());\n",
       "      run_inline_js();\n",
       "    });\n",
       "  }\n",
       "}(window));"
      ],
      "application/vnd.bokehjs_load.v0+json": "(function(root) {\n  function now() {\n    return new Date();\n  }\n\n  const force = true;\n\n  if (typeof root._bokeh_onload_callbacks === \"undefined\" || force === true) {\n    root._bokeh_onload_callbacks = [];\n    root._bokeh_is_loading = undefined;\n  }\n\n\n  if (typeof (root._bokeh_timeout) === \"undefined\" || force === true) {\n    root._bokeh_timeout = Date.now() + 5000;\n    root._bokeh_failed_load = false;\n  }\n\n  const NB_LOAD_WARNING = {'data': {'text/html':\n     \"<div style='background-color: #fdd'>\\n\"+\n     \"<p>\\n\"+\n     \"BokehJS does not appear to have successfully loaded. If loading BokehJS from CDN, this \\n\"+\n     \"may be due to a slow or bad network connection. Possible fixes:\\n\"+\n     \"</p>\\n\"+\n     \"<ul>\\n\"+\n     \"<li>re-rerun `output_notebook()` to attempt to load from CDN again, or</li>\\n\"+\n     \"<li>use INLINE resources instead, as so:</li>\\n\"+\n     \"</ul>\\n\"+\n     \"<code>\\n\"+\n     \"from bokeh.resources import INLINE\\n\"+\n     \"output_notebook(resources=INLINE)\\n\"+\n     \"</code>\\n\"+\n     \"</div>\"}};\n\n  function display_loaded() {\n    const el = document.getElementById(\"dd4930f7-c6e5-4c9a-8b58-160ef97bf146\");\n    if (el != null) {\n      el.textContent = \"BokehJS is loading...\";\n    }\n    if (root.Bokeh !== undefined) {\n      if (el != null) {\n        el.textContent = \"BokehJS \" + root.Bokeh.version + \" successfully loaded.\";\n      }\n    } else if (Date.now() < root._bokeh_timeout) {\n      setTimeout(display_loaded, 100)\n    }\n  }\n\n  function run_callbacks() {\n    try {\n      root._bokeh_onload_callbacks.forEach(function(callback) {\n        if (callback != null)\n          callback();\n      });\n    } finally {\n      delete root._bokeh_onload_callbacks\n    }\n    console.debug(\"Bokeh: all callbacks have finished\");\n  }\n\n  function load_libs(css_urls, js_urls, callback) {\n    if (css_urls == null) css_urls = [];\n    if (js_urls == null) js_urls = [];\n\n    root._bokeh_onload_callbacks.push(callback);\n    if (root._bokeh_is_loading > 0) {\n      console.debug(\"Bokeh: BokehJS is being loaded, scheduling callback at\", now());\n      return null;\n    }\n    if (js_urls == null || js_urls.length === 0) {\n      run_callbacks();\n      return null;\n    }\n    console.debug(\"Bokeh: BokehJS not loaded, scheduling load and callback at\", now());\n    root._bokeh_is_loading = css_urls.length + js_urls.length;\n\n    function on_load() {\n      root._bokeh_is_loading--;\n      if (root._bokeh_is_loading === 0) {\n        console.debug(\"Bokeh: all BokehJS libraries/stylesheets loaded\");\n        run_callbacks()\n      }\n    }\n\n    function on_error(url) {\n      console.error(\"failed to load \" + url);\n    }\n\n    for (let i = 0; i < css_urls.length; i++) {\n      const url = css_urls[i];\n      const element = document.createElement(\"link\");\n      element.onload = on_load;\n      element.onerror = on_error.bind(null, url);\n      element.rel = \"stylesheet\";\n      element.type = \"text/css\";\n      element.href = url;\n      console.debug(\"Bokeh: injecting link tag for BokehJS stylesheet: \", url);\n      document.body.appendChild(element);\n    }\n\n    for (let i = 0; i < js_urls.length; i++) {\n      const url = js_urls[i];\n      const element = document.createElement('script');\n      element.onload = on_load;\n      element.onerror = on_error.bind(null, url);\n      element.async = false;\n      element.src = url;\n      console.debug(\"Bokeh: injecting script tag for BokehJS library: \", url);\n      document.head.appendChild(element);\n    }\n  };\n\n  function inject_raw_css(css) {\n    const element = document.createElement(\"style\");\n    element.appendChild(document.createTextNode(css));\n    document.body.appendChild(element);\n  }\n\n  const js_urls = [\"https://cdn.bokeh.org/bokeh/release/bokeh-3.2.1.min.js\", \"https://cdn.bokeh.org/bokeh/release/bokeh-gl-3.2.1.min.js\", \"https://cdn.bokeh.org/bokeh/release/bokeh-widgets-3.2.1.min.js\", \"https://cdn.bokeh.org/bokeh/release/bokeh-tables-3.2.1.min.js\", \"https://cdn.bokeh.org/bokeh/release/bokeh-mathjax-3.2.1.min.js\"];\n  const css_urls = [];\n\n  const inline_js = [    function(Bokeh) {\n      Bokeh.set_log_level(\"info\");\n    },\nfunction(Bokeh) {\n    }\n  ];\n\n  function run_inline_js() {\n    if (root.Bokeh !== undefined || force === true) {\n          for (let i = 0; i < inline_js.length; i++) {\n      inline_js[i].call(root, root.Bokeh);\n    }\nif (force === true) {\n        display_loaded();\n      }} else if (Date.now() < root._bokeh_timeout) {\n      setTimeout(run_inline_js, 100);\n    } else if (!root._bokeh_failed_load) {\n      console.log(\"Bokeh: BokehJS failed to load within specified timeout.\");\n      root._bokeh_failed_load = true;\n    } else if (force !== true) {\n      const cell = $(document.getElementById(\"dd4930f7-c6e5-4c9a-8b58-160ef97bf146\")).parents('.cell').data().cell;\n      cell.output_area.append_execute_result(NB_LOAD_WARNING)\n    }\n  }\n\n  if (root._bokeh_is_loading === 0) {\n    console.debug(\"Bokeh: BokehJS loaded, going straight to plotting\");\n    run_inline_js();\n  } else {\n    load_libs(css_urls, js_urls, function() {\n      console.debug(\"Bokeh: BokehJS plotting callback run at\", now());\n      run_inline_js();\n    });\n  }\n}(window));"
     },
     "metadata": {},
     "output_type": "display_data"
    },
    {
     "data": {
      "text/html": [
       "\n",
       "  <div id=\"e939f9e4-dd7c-4cc0-aab4-7a7b7b029949\" data-root-id=\"p3694\" style=\"display: contents;\"></div>\n"
      ]
     },
     "metadata": {},
     "output_type": "display_data"
    },
    {
     "data": {
      "application/javascript": [
       "(function(root) {\n",
       "  function embed_document(root) {\n",
       "  const docs_json = {\"bfa08b80-1121-4f0c-965d-0b5f667279f3\":{\"version\":\"3.2.1\",\"title\":\"Bokeh Application\",\"roots\":[{\"type\":\"object\",\"name\":\"Figure\",\"id\":\"p3694\",\"attributes\":{\"width\":700,\"height\":300,\"x_range\":{\"type\":\"object\",\"name\":\"DataRange1d\",\"id\":\"p3696\"},\"y_range\":{\"type\":\"object\",\"name\":\"FactorRange\",\"id\":\"p3704\",\"attributes\":{\"factors\":[\"Ball Possession %\",\"Assists\",\"Shots On Target\",\"Shots Off Target\",\"Interceptions\",\"Set Pieces\"]}},\"x_scale\":{\"type\":\"object\",\"name\":\"LinearScale\",\"id\":\"p3705\"},\"y_scale\":{\"type\":\"object\",\"name\":\"CategoricalScale\",\"id\":\"p3706\"},\"title\":{\"type\":\"object\",\"name\":\"Title\",\"id\":\"p3697\",\"attributes\":{\"text\":\"Impact of Features on Spurs's Goals\",\"text_font_size\":\"16pt\"}},\"renderers\":[{\"type\":\"object\",\"name\":\"GlyphRenderer\",\"id\":\"p3726\",\"attributes\":{\"data_source\":{\"type\":\"object\",\"name\":\"ColumnDataSource\",\"id\":\"p3691\",\"attributes\":{\"selected\":{\"type\":\"object\",\"name\":\"Selection\",\"id\":\"p3692\",\"attributes\":{\"indices\":[],\"line_indices\":[]}},\"selection_policy\":{\"type\":\"object\",\"name\":\"UnionRenderers\",\"id\":\"p3693\"},\"data\":{\"type\":\"map\",\"entries\":[[\"features\",[\"Ball Possession %\",\"Assists\",\"Shots On Target\",\"Shots Off Target\",\"Interceptions\",\"Set Pieces\"]],[\"values\",[-0.005248614773968853,-0.07230161067045264,0.225868177056875,-0.2797925955608198,0.28627341102198994,-0.5884629312292079]]]}}},\"view\":{\"type\":\"object\",\"name\":\"CDSView\",\"id\":\"p3727\",\"attributes\":{\"filter\":{\"type\":\"object\",\"name\":\"AllIndices\",\"id\":\"p3728\"}}},\"glyph\":{\"type\":\"object\",\"name\":\"HBar\",\"id\":\"p3723\",\"attributes\":{\"y\":{\"type\":\"field\",\"field\":\"features\"},\"height\":{\"type\":\"value\",\"value\":0.4},\"right\":{\"type\":\"field\",\"field\":\"values\"},\"line_color\":{\"type\":\"field\",\"field\":\"values\",\"transform\":{\"type\":\"object\",\"name\":\"LinearColorMapper\",\"id\":\"p3690\",\"attributes\":{\"palette\":[\"#a50026\",\"#d73027\",\"#f46d43\",\"#fdae61\",\"#fee08b\",\"#d9ef8b\",\"#a6d96a\",\"#66bd63\",\"#1a9850\",\"#006837\"],\"low\":-0.28627341102198994,\"high\":0.28627341102198994}}},\"fill_color\":{\"type\":\"field\",\"field\":\"values\",\"transform\":{\"id\":\"p3690\"}},\"hatch_color\":{\"type\":\"field\",\"field\":\"values\",\"transform\":{\"id\":\"p3690\"}}}},\"nonselection_glyph\":{\"type\":\"object\",\"name\":\"HBar\",\"id\":\"p3724\",\"attributes\":{\"y\":{\"type\":\"field\",\"field\":\"features\"},\"height\":{\"type\":\"value\",\"value\":0.4},\"right\":{\"type\":\"field\",\"field\":\"values\"},\"line_color\":{\"type\":\"field\",\"field\":\"values\",\"transform\":{\"id\":\"p3690\"}},\"line_alpha\":{\"type\":\"value\",\"value\":0.1},\"fill_color\":{\"type\":\"field\",\"field\":\"values\",\"transform\":{\"id\":\"p3690\"}},\"fill_alpha\":{\"type\":\"value\",\"value\":0.1},\"hatch_color\":{\"type\":\"field\",\"field\":\"values\",\"transform\":{\"id\":\"p3690\"}},\"hatch_alpha\":{\"type\":\"value\",\"value\":0.1}}},\"muted_glyph\":{\"type\":\"object\",\"name\":\"HBar\",\"id\":\"p3725\",\"attributes\":{\"y\":{\"type\":\"field\",\"field\":\"features\"},\"height\":{\"type\":\"value\",\"value\":0.4},\"right\":{\"type\":\"field\",\"field\":\"values\"},\"line_color\":{\"type\":\"field\",\"field\":\"values\",\"transform\":{\"id\":\"p3690\"}},\"line_alpha\":{\"type\":\"value\",\"value\":0.2},\"fill_color\":{\"type\":\"field\",\"field\":\"values\",\"transform\":{\"id\":\"p3690\"}},\"fill_alpha\":{\"type\":\"value\",\"value\":0.2},\"hatch_color\":{\"type\":\"field\",\"field\":\"values\",\"transform\":{\"id\":\"p3690\"}},\"hatch_alpha\":{\"type\":\"value\",\"value\":0.2}}}}},{\"type\":\"object\",\"name\":\"GlyphRenderer\",\"id\":\"p3738\",\"attributes\":{\"data_source\":{\"type\":\"object\",\"name\":\"ColumnDataSource\",\"id\":\"p3732\",\"attributes\":{\"selected\":{\"type\":\"object\",\"name\":\"Selection\",\"id\":\"p3733\",\"attributes\":{\"indices\":[],\"line_indices\":[]}},\"selection_policy\":{\"type\":\"object\",\"name\":\"UnionRenderers\",\"id\":\"p3734\"},\"data\":{\"type\":\"map\",\"entries\":[[\"x\",[0,0]],[\"y\",[0,6]]]}}},\"view\":{\"type\":\"object\",\"name\":\"CDSView\",\"id\":\"p3739\",\"attributes\":{\"filter\":{\"type\":\"object\",\"name\":\"AllIndices\",\"id\":\"p3740\"}}},\"glyph\":{\"type\":\"object\",\"name\":\"Line\",\"id\":\"p3735\",\"attributes\":{\"x\":{\"type\":\"field\",\"field\":\"x\"},\"y\":{\"type\":\"field\",\"field\":\"y\"},\"line_width\":2,\"line_dash\":[6]}},\"nonselection_glyph\":{\"type\":\"object\",\"name\":\"Line\",\"id\":\"p3736\",\"attributes\":{\"x\":{\"type\":\"field\",\"field\":\"x\"},\"y\":{\"type\":\"field\",\"field\":\"y\"},\"line_alpha\":0.1,\"line_width\":2,\"line_dash\":[6]}},\"muted_glyph\":{\"type\":\"object\",\"name\":\"Line\",\"id\":\"p3737\",\"attributes\":{\"x\":{\"type\":\"field\",\"field\":\"x\"},\"y\":{\"type\":\"field\",\"field\":\"y\"},\"line_alpha\":0.2,\"line_width\":2,\"line_dash\":[6]}}}}],\"toolbar\":{\"type\":\"object\",\"name\":\"Toolbar\",\"id\":\"p3703\",\"attributes\":{\"tools\":[{\"type\":\"object\",\"name\":\"PanTool\",\"id\":\"p3717\"},{\"type\":\"object\",\"name\":\"WheelZoomTool\",\"id\":\"p3718\"},{\"type\":\"object\",\"name\":\"ResetTool\",\"id\":\"p3719\"},{\"type\":\"object\",\"name\":\"HoverTool\",\"id\":\"p3731\",\"attributes\":{\"renderers\":\"auto\",\"tooltips\":[[\"Feature\",\"@features\"],[\"Coefficient\",\"@values\"]]}}]}},\"toolbar_location\":\"above\",\"left\":[{\"type\":\"object\",\"name\":\"CategoricalAxis\",\"id\":\"p3712\",\"attributes\":{\"ticker\":{\"type\":\"object\",\"name\":\"CategoricalTicker\",\"id\":\"p3713\"},\"formatter\":{\"type\":\"object\",\"name\":\"CategoricalTickFormatter\",\"id\":\"p3714\"},\"axis_label\":\"Features\",\"axis_label_standoff\":12,\"major_label_policy\":{\"type\":\"object\",\"name\":\"AllLabels\",\"id\":\"p3715\"}}}],\"right\":[{\"type\":\"object\",\"name\":\"ColorBar\",\"id\":\"p3729\",\"attributes\":{\"location\":[0,0],\"width\":8,\"major_label_policy\":{\"type\":\"object\",\"name\":\"NoOverlap\",\"id\":\"p3730\"},\"color_mapper\":{\"id\":\"p3690\"}}}],\"below\":[{\"type\":\"object\",\"name\":\"LinearAxis\",\"id\":\"p3707\",\"attributes\":{\"ticker\":{\"type\":\"object\",\"name\":\"BasicTicker\",\"id\":\"p3708\",\"attributes\":{\"mantissas\":[1,2,5]}},\"formatter\":{\"type\":\"object\",\"name\":\"BasicTickFormatter\",\"id\":\"p3709\"},\"axis_label\":\"Coefficient Value\",\"axis_label_standoff\":12,\"major_label_policy\":{\"type\":\"object\",\"name\":\"AllLabels\",\"id\":\"p3710\"}}}],\"center\":[{\"type\":\"object\",\"name\":\"Grid\",\"id\":\"p3711\",\"attributes\":{\"axis\":{\"id\":\"p3707\"}}},{\"type\":\"object\",\"name\":\"Grid\",\"id\":\"p3716\",\"attributes\":{\"dimension\":1,\"axis\":{\"id\":\"p3712\"}}}]}}]}};\n",
       "  const render_items = [{\"docid\":\"bfa08b80-1121-4f0c-965d-0b5f667279f3\",\"roots\":{\"p3694\":\"e939f9e4-dd7c-4cc0-aab4-7a7b7b029949\"},\"root_ids\":[\"p3694\"]}];\n",
       "  root.Bokeh.embed.embed_items_notebook(docs_json, render_items);\n",
       "  }\n",
       "  if (root.Bokeh !== undefined) {\n",
       "    embed_document(root);\n",
       "  } else {\n",
       "    let attempts = 0;\n",
       "    const timer = setInterval(function(root) {\n",
       "      if (root.Bokeh !== undefined) {\n",
       "        clearInterval(timer);\n",
       "        embed_document(root);\n",
       "      } else {\n",
       "        attempts++;\n",
       "        if (attempts > 100) {\n",
       "          clearInterval(timer);\n",
       "          console.log(\"Bokeh: ERROR: Unable to run BokehJS code because BokehJS library is missing\");\n",
       "        }\n",
       "      }\n",
       "    }, 10, root)\n",
       "  }\n",
       "})(window);"
      ],
      "application/vnd.bokehjs_exec.v0+json": ""
     },
     "metadata": {
      "application/vnd.bokehjs_exec.v0+json": {
       "id": "p3694"
      }
     },
     "output_type": "display_data"
    }
   ],
   "source": [
    "analyze_football_data(spurs,\"Spurs\")"
   ]
  },
  {
   "cell_type": "code",
   "execution_count": 264,
   "id": "e64f21e0",
   "metadata": {},
   "outputs": [
    {
     "data": {
      "text/html": [
       "<style>\n",
       "        .bk-notebook-logo {\n",
       "            display: block;\n",
       "            width: 20px;\n",
       "            height: 20px;\n",
       "            background-image: url(data:image/png;base64,iVBORw0KGgoAAAANSUhEUgAAABQAAAAUCAYAAACNiR0NAAAABHNCSVQICAgIfAhkiAAAAAlwSFlzAAALEgAACxIB0t1+/AAAABx0RVh0U29mdHdhcmUAQWRvYmUgRmlyZXdvcmtzIENTNui8sowAAAOkSURBVDiNjZRtaJVlGMd/1/08zzln5zjP1LWcU9N0NkN8m2CYjpgQYQXqSs0I84OLIC0hkEKoPtiH3gmKoiJDU7QpLgoLjLIQCpEsNJ1vqUOdO7ppbuec5+V+rj4ctwzd8IIbbi6u+8f1539dt3A78eXC7QizUF7gyV1fD1Yqg4JWz84yffhm0qkFqBogB9rM8tZdtwVsPUhWhGcFJngGeWrPzHm5oaMmkfEg1usvLFyc8jLRqDOMru7AyC8saQr7GG7f5fvDeH7Ej8CM66nIF+8yngt6HWaKh7k49Soy9nXurCi1o3qUbS3zWfrYeQDTB/Qj6kX6Ybhw4B+bOYoLKCC9H3Nu/leUTZ1JdRWkkn2ldcCamzrcf47KKXdAJllSlxAOkRgyHsGC/zRday5Qld9DyoM4/q/rUoy/CXh3jzOu3bHUVZeU+DEn8FInkPBFlu3+nW3Nw0mk6vCDiWg8CeJaxEwuHS3+z5RgY+YBR6V1Z1nxSOfoaPa4LASWxxdNp+VWTk7+4vzaou8v8PN+xo+KY2xsw6une2frhw05CTYOmQvsEhjhWjn0bmXPjpE1+kplmmkP3suftwTubK9Vq22qKmrBhpY4jvd5afdRA3wGjFAgcnTK2s4hY0/GPNIb0nErGMCRxWOOX64Z8RAC4oCXdklmEvcL8o0BfkNK4lUg9HTl+oPlQxdNo3Mg4Nv175e/1LDGzZen30MEjRUtmXSfiTVu1kK8W4txyV6BMKlbgk3lMwYCiusNy9fVfvvwMxv8Ynl6vxoByANLTWplvuj/nF9m2+PDtt1eiHPBr1oIfhCChQMBw6Aw0UulqTKZdfVvfG7VcfIqLG9bcldL/+pdWTLxLUy8Qq38heUIjh4XlzZxzQm19lLFlr8vdQ97rjZVOLf8nclzckbcD4wxXMidpX30sFd37Fv/GtwwhzhxGVAprjbg0gCAEeIgwCZyTV2Z1REEW8O4py0wsjeloKoMr6iCY6dP92H6Vw/oTyICIthibxjm/DfN9lVz8IqtqKYLUXfoKVMVQVVJOElGjrnnUt9T9wbgp8AyYKaGlqingHZU/uG2NTZSVqwHQTWkx9hxjkpWDaCg6Ckj5qebgBVbT3V3NNXMSiWSDdGV3hrtzla7J+duwPOToIg42ChPQOQjspnSlp1V+Gjdged7+8UN5CRAV7a5EdFNwCjEaBR27b3W890TE7g24NAP/mMDXRWrGoFPQI9ls/MWO2dWFAar/xcOIImbbpA3zgAAAABJRU5ErkJggg==);\n",
       "        }\n",
       "    </style>\n",
       "    <div>\n",
       "        <a href=\"https://bokeh.org\" target=\"_blank\" class=\"bk-notebook-logo\"></a>\n",
       "        <span id=\"b57e73ea-e770-4f38-a36a-48fbf2002a27\">Loading BokehJS ...</span>\n",
       "    </div>\n"
      ]
     },
     "metadata": {},
     "output_type": "display_data"
    },
    {
     "data": {
      "application/javascript": [
       "(function(root) {\n",
       "  function now() {\n",
       "    return new Date();\n",
       "  }\n",
       "\n",
       "  const force = true;\n",
       "\n",
       "  if (typeof root._bokeh_onload_callbacks === \"undefined\" || force === true) {\n",
       "    root._bokeh_onload_callbacks = [];\n",
       "    root._bokeh_is_loading = undefined;\n",
       "  }\n",
       "\n",
       "const JS_MIME_TYPE = 'application/javascript';\n",
       "  const HTML_MIME_TYPE = 'text/html';\n",
       "  const EXEC_MIME_TYPE = 'application/vnd.bokehjs_exec.v0+json';\n",
       "  const CLASS_NAME = 'output_bokeh rendered_html';\n",
       "\n",
       "  /**\n",
       "   * Render data to the DOM node\n",
       "   */\n",
       "  function render(props, node) {\n",
       "    const script = document.createElement(\"script\");\n",
       "    node.appendChild(script);\n",
       "  }\n",
       "\n",
       "  /**\n",
       "   * Handle when an output is cleared or removed\n",
       "   */\n",
       "  function handleClearOutput(event, handle) {\n",
       "    const cell = handle.cell;\n",
       "\n",
       "    const id = cell.output_area._bokeh_element_id;\n",
       "    const server_id = cell.output_area._bokeh_server_id;\n",
       "    // Clean up Bokeh references\n",
       "    if (id != null && id in Bokeh.index) {\n",
       "      Bokeh.index[id].model.document.clear();\n",
       "      delete Bokeh.index[id];\n",
       "    }\n",
       "\n",
       "    if (server_id !== undefined) {\n",
       "      // Clean up Bokeh references\n",
       "      const cmd_clean = \"from bokeh.io.state import curstate; print(curstate().uuid_to_server['\" + server_id + \"'].get_sessions()[0].document.roots[0]._id)\";\n",
       "      cell.notebook.kernel.execute(cmd_clean, {\n",
       "        iopub: {\n",
       "          output: function(msg) {\n",
       "            const id = msg.content.text.trim();\n",
       "            if (id in Bokeh.index) {\n",
       "              Bokeh.index[id].model.document.clear();\n",
       "              delete Bokeh.index[id];\n",
       "            }\n",
       "          }\n",
       "        }\n",
       "      });\n",
       "      // Destroy server and session\n",
       "      const cmd_destroy = \"import bokeh.io.notebook as ion; ion.destroy_server('\" + server_id + \"')\";\n",
       "      cell.notebook.kernel.execute(cmd_destroy);\n",
       "    }\n",
       "  }\n",
       "\n",
       "  /**\n",
       "   * Handle when a new output is added\n",
       "   */\n",
       "  function handleAddOutput(event, handle) {\n",
       "    const output_area = handle.output_area;\n",
       "    const output = handle.output;\n",
       "\n",
       "    // limit handleAddOutput to display_data with EXEC_MIME_TYPE content only\n",
       "    if ((output.output_type != \"display_data\") || (!Object.prototype.hasOwnProperty.call(output.data, EXEC_MIME_TYPE))) {\n",
       "      return\n",
       "    }\n",
       "\n",
       "    const toinsert = output_area.element.find(\".\" + CLASS_NAME.split(' ')[0]);\n",
       "\n",
       "    if (output.metadata[EXEC_MIME_TYPE][\"id\"] !== undefined) {\n",
       "      toinsert[toinsert.length - 1].firstChild.textContent = output.data[JS_MIME_TYPE];\n",
       "      // store reference to embed id on output_area\n",
       "      output_area._bokeh_element_id = output.metadata[EXEC_MIME_TYPE][\"id\"];\n",
       "    }\n",
       "    if (output.metadata[EXEC_MIME_TYPE][\"server_id\"] !== undefined) {\n",
       "      const bk_div = document.createElement(\"div\");\n",
       "      bk_div.innerHTML = output.data[HTML_MIME_TYPE];\n",
       "      const script_attrs = bk_div.children[0].attributes;\n",
       "      for (let i = 0; i < script_attrs.length; i++) {\n",
       "        toinsert[toinsert.length - 1].firstChild.setAttribute(script_attrs[i].name, script_attrs[i].value);\n",
       "        toinsert[toinsert.length - 1].firstChild.textContent = bk_div.children[0].textContent\n",
       "      }\n",
       "      // store reference to server id on output_area\n",
       "      output_area._bokeh_server_id = output.metadata[EXEC_MIME_TYPE][\"server_id\"];\n",
       "    }\n",
       "  }\n",
       "\n",
       "  function register_renderer(events, OutputArea) {\n",
       "\n",
       "    function append_mime(data, metadata, element) {\n",
       "      // create a DOM node to render to\n",
       "      const toinsert = this.create_output_subarea(\n",
       "        metadata,\n",
       "        CLASS_NAME,\n",
       "        EXEC_MIME_TYPE\n",
       "      );\n",
       "      this.keyboard_manager.register_events(toinsert);\n",
       "      // Render to node\n",
       "      const props = {data: data, metadata: metadata[EXEC_MIME_TYPE]};\n",
       "      render(props, toinsert[toinsert.length - 1]);\n",
       "      element.append(toinsert);\n",
       "      return toinsert\n",
       "    }\n",
       "\n",
       "    /* Handle when an output is cleared or removed */\n",
       "    events.on('clear_output.CodeCell', handleClearOutput);\n",
       "    events.on('delete.Cell', handleClearOutput);\n",
       "\n",
       "    /* Handle when a new output is added */\n",
       "    events.on('output_added.OutputArea', handleAddOutput);\n",
       "\n",
       "    /**\n",
       "     * Register the mime type and append_mime function with output_area\n",
       "     */\n",
       "    OutputArea.prototype.register_mime_type(EXEC_MIME_TYPE, append_mime, {\n",
       "      /* Is output safe? */\n",
       "      safe: true,\n",
       "      /* Index of renderer in `output_area.display_order` */\n",
       "      index: 0\n",
       "    });\n",
       "  }\n",
       "\n",
       "  // register the mime type if in Jupyter Notebook environment and previously unregistered\n",
       "  if (root.Jupyter !== undefined) {\n",
       "    const events = require('base/js/events');\n",
       "    const OutputArea = require('notebook/js/outputarea').OutputArea;\n",
       "\n",
       "    if (OutputArea.prototype.mime_types().indexOf(EXEC_MIME_TYPE) == -1) {\n",
       "      register_renderer(events, OutputArea);\n",
       "    }\n",
       "  }\n",
       "  if (typeof (root._bokeh_timeout) === \"undefined\" || force === true) {\n",
       "    root._bokeh_timeout = Date.now() + 5000;\n",
       "    root._bokeh_failed_load = false;\n",
       "  }\n",
       "\n",
       "  const NB_LOAD_WARNING = {'data': {'text/html':\n",
       "     \"<div style='background-color: #fdd'>\\n\"+\n",
       "     \"<p>\\n\"+\n",
       "     \"BokehJS does not appear to have successfully loaded. If loading BokehJS from CDN, this \\n\"+\n",
       "     \"may be due to a slow or bad network connection. Possible fixes:\\n\"+\n",
       "     \"</p>\\n\"+\n",
       "     \"<ul>\\n\"+\n",
       "     \"<li>re-rerun `output_notebook()` to attempt to load from CDN again, or</li>\\n\"+\n",
       "     \"<li>use INLINE resources instead, as so:</li>\\n\"+\n",
       "     \"</ul>\\n\"+\n",
       "     \"<code>\\n\"+\n",
       "     \"from bokeh.resources import INLINE\\n\"+\n",
       "     \"output_notebook(resources=INLINE)\\n\"+\n",
       "     \"</code>\\n\"+\n",
       "     \"</div>\"}};\n",
       "\n",
       "  function display_loaded() {\n",
       "    const el = document.getElementById(\"b57e73ea-e770-4f38-a36a-48fbf2002a27\");\n",
       "    if (el != null) {\n",
       "      el.textContent = \"BokehJS is loading...\";\n",
       "    }\n",
       "    if (root.Bokeh !== undefined) {\n",
       "      if (el != null) {\n",
       "        el.textContent = \"BokehJS \" + root.Bokeh.version + \" successfully loaded.\";\n",
       "      }\n",
       "    } else if (Date.now() < root._bokeh_timeout) {\n",
       "      setTimeout(display_loaded, 100)\n",
       "    }\n",
       "  }\n",
       "\n",
       "  function run_callbacks() {\n",
       "    try {\n",
       "      root._bokeh_onload_callbacks.forEach(function(callback) {\n",
       "        if (callback != null)\n",
       "          callback();\n",
       "      });\n",
       "    } finally {\n",
       "      delete root._bokeh_onload_callbacks\n",
       "    }\n",
       "    console.debug(\"Bokeh: all callbacks have finished\");\n",
       "  }\n",
       "\n",
       "  function load_libs(css_urls, js_urls, callback) {\n",
       "    if (css_urls == null) css_urls = [];\n",
       "    if (js_urls == null) js_urls = [];\n",
       "\n",
       "    root._bokeh_onload_callbacks.push(callback);\n",
       "    if (root._bokeh_is_loading > 0) {\n",
       "      console.debug(\"Bokeh: BokehJS is being loaded, scheduling callback at\", now());\n",
       "      return null;\n",
       "    }\n",
       "    if (js_urls == null || js_urls.length === 0) {\n",
       "      run_callbacks();\n",
       "      return null;\n",
       "    }\n",
       "    console.debug(\"Bokeh: BokehJS not loaded, scheduling load and callback at\", now());\n",
       "    root._bokeh_is_loading = css_urls.length + js_urls.length;\n",
       "\n",
       "    function on_load() {\n",
       "      root._bokeh_is_loading--;\n",
       "      if (root._bokeh_is_loading === 0) {\n",
       "        console.debug(\"Bokeh: all BokehJS libraries/stylesheets loaded\");\n",
       "        run_callbacks()\n",
       "      }\n",
       "    }\n",
       "\n",
       "    function on_error(url) {\n",
       "      console.error(\"failed to load \" + url);\n",
       "    }\n",
       "\n",
       "    for (let i = 0; i < css_urls.length; i++) {\n",
       "      const url = css_urls[i];\n",
       "      const element = document.createElement(\"link\");\n",
       "      element.onload = on_load;\n",
       "      element.onerror = on_error.bind(null, url);\n",
       "      element.rel = \"stylesheet\";\n",
       "      element.type = \"text/css\";\n",
       "      element.href = url;\n",
       "      console.debug(\"Bokeh: injecting link tag for BokehJS stylesheet: \", url);\n",
       "      document.body.appendChild(element);\n",
       "    }\n",
       "\n",
       "    for (let i = 0; i < js_urls.length; i++) {\n",
       "      const url = js_urls[i];\n",
       "      const element = document.createElement('script');\n",
       "      element.onload = on_load;\n",
       "      element.onerror = on_error.bind(null, url);\n",
       "      element.async = false;\n",
       "      element.src = url;\n",
       "      console.debug(\"Bokeh: injecting script tag for BokehJS library: \", url);\n",
       "      document.head.appendChild(element);\n",
       "    }\n",
       "  };\n",
       "\n",
       "  function inject_raw_css(css) {\n",
       "    const element = document.createElement(\"style\");\n",
       "    element.appendChild(document.createTextNode(css));\n",
       "    document.body.appendChild(element);\n",
       "  }\n",
       "\n",
       "  const js_urls = [\"https://cdn.bokeh.org/bokeh/release/bokeh-3.2.1.min.js\", \"https://cdn.bokeh.org/bokeh/release/bokeh-gl-3.2.1.min.js\", \"https://cdn.bokeh.org/bokeh/release/bokeh-widgets-3.2.1.min.js\", \"https://cdn.bokeh.org/bokeh/release/bokeh-tables-3.2.1.min.js\", \"https://cdn.bokeh.org/bokeh/release/bokeh-mathjax-3.2.1.min.js\"];\n",
       "  const css_urls = [];\n",
       "\n",
       "  const inline_js = [    function(Bokeh) {\n",
       "      Bokeh.set_log_level(\"info\");\n",
       "    },\n",
       "function(Bokeh) {\n",
       "    }\n",
       "  ];\n",
       "\n",
       "  function run_inline_js() {\n",
       "    if (root.Bokeh !== undefined || force === true) {\n",
       "          for (let i = 0; i < inline_js.length; i++) {\n",
       "      inline_js[i].call(root, root.Bokeh);\n",
       "    }\n",
       "if (force === true) {\n",
       "        display_loaded();\n",
       "      }} else if (Date.now() < root._bokeh_timeout) {\n",
       "      setTimeout(run_inline_js, 100);\n",
       "    } else if (!root._bokeh_failed_load) {\n",
       "      console.log(\"Bokeh: BokehJS failed to load within specified timeout.\");\n",
       "      root._bokeh_failed_load = true;\n",
       "    } else if (force !== true) {\n",
       "      const cell = $(document.getElementById(\"b57e73ea-e770-4f38-a36a-48fbf2002a27\")).parents('.cell').data().cell;\n",
       "      cell.output_area.append_execute_result(NB_LOAD_WARNING)\n",
       "    }\n",
       "  }\n",
       "\n",
       "  if (root._bokeh_is_loading === 0) {\n",
       "    console.debug(\"Bokeh: BokehJS loaded, going straight to plotting\");\n",
       "    run_inline_js();\n",
       "  } else {\n",
       "    load_libs(css_urls, js_urls, function() {\n",
       "      console.debug(\"Bokeh: BokehJS plotting callback run at\", now());\n",
       "      run_inline_js();\n",
       "    });\n",
       "  }\n",
       "}(window));"
      ],
      "application/vnd.bokehjs_load.v0+json": "(function(root) {\n  function now() {\n    return new Date();\n  }\n\n  const force = true;\n\n  if (typeof root._bokeh_onload_callbacks === \"undefined\" || force === true) {\n    root._bokeh_onload_callbacks = [];\n    root._bokeh_is_loading = undefined;\n  }\n\n\n  if (typeof (root._bokeh_timeout) === \"undefined\" || force === true) {\n    root._bokeh_timeout = Date.now() + 5000;\n    root._bokeh_failed_load = false;\n  }\n\n  const NB_LOAD_WARNING = {'data': {'text/html':\n     \"<div style='background-color: #fdd'>\\n\"+\n     \"<p>\\n\"+\n     \"BokehJS does not appear to have successfully loaded. If loading BokehJS from CDN, this \\n\"+\n     \"may be due to a slow or bad network connection. Possible fixes:\\n\"+\n     \"</p>\\n\"+\n     \"<ul>\\n\"+\n     \"<li>re-rerun `output_notebook()` to attempt to load from CDN again, or</li>\\n\"+\n     \"<li>use INLINE resources instead, as so:</li>\\n\"+\n     \"</ul>\\n\"+\n     \"<code>\\n\"+\n     \"from bokeh.resources import INLINE\\n\"+\n     \"output_notebook(resources=INLINE)\\n\"+\n     \"</code>\\n\"+\n     \"</div>\"}};\n\n  function display_loaded() {\n    const el = document.getElementById(\"b57e73ea-e770-4f38-a36a-48fbf2002a27\");\n    if (el != null) {\n      el.textContent = \"BokehJS is loading...\";\n    }\n    if (root.Bokeh !== undefined) {\n      if (el != null) {\n        el.textContent = \"BokehJS \" + root.Bokeh.version + \" successfully loaded.\";\n      }\n    } else if (Date.now() < root._bokeh_timeout) {\n      setTimeout(display_loaded, 100)\n    }\n  }\n\n  function run_callbacks() {\n    try {\n      root._bokeh_onload_callbacks.forEach(function(callback) {\n        if (callback != null)\n          callback();\n      });\n    } finally {\n      delete root._bokeh_onload_callbacks\n    }\n    console.debug(\"Bokeh: all callbacks have finished\");\n  }\n\n  function load_libs(css_urls, js_urls, callback) {\n    if (css_urls == null) css_urls = [];\n    if (js_urls == null) js_urls = [];\n\n    root._bokeh_onload_callbacks.push(callback);\n    if (root._bokeh_is_loading > 0) {\n      console.debug(\"Bokeh: BokehJS is being loaded, scheduling callback at\", now());\n      return null;\n    }\n    if (js_urls == null || js_urls.length === 0) {\n      run_callbacks();\n      return null;\n    }\n    console.debug(\"Bokeh: BokehJS not loaded, scheduling load and callback at\", now());\n    root._bokeh_is_loading = css_urls.length + js_urls.length;\n\n    function on_load() {\n      root._bokeh_is_loading--;\n      if (root._bokeh_is_loading === 0) {\n        console.debug(\"Bokeh: all BokehJS libraries/stylesheets loaded\");\n        run_callbacks()\n      }\n    }\n\n    function on_error(url) {\n      console.error(\"failed to load \" + url);\n    }\n\n    for (let i = 0; i < css_urls.length; i++) {\n      const url = css_urls[i];\n      const element = document.createElement(\"link\");\n      element.onload = on_load;\n      element.onerror = on_error.bind(null, url);\n      element.rel = \"stylesheet\";\n      element.type = \"text/css\";\n      element.href = url;\n      console.debug(\"Bokeh: injecting link tag for BokehJS stylesheet: \", url);\n      document.body.appendChild(element);\n    }\n\n    for (let i = 0; i < js_urls.length; i++) {\n      const url = js_urls[i];\n      const element = document.createElement('script');\n      element.onload = on_load;\n      element.onerror = on_error.bind(null, url);\n      element.async = false;\n      element.src = url;\n      console.debug(\"Bokeh: injecting script tag for BokehJS library: \", url);\n      document.head.appendChild(element);\n    }\n  };\n\n  function inject_raw_css(css) {\n    const element = document.createElement(\"style\");\n    element.appendChild(document.createTextNode(css));\n    document.body.appendChild(element);\n  }\n\n  const js_urls = [\"https://cdn.bokeh.org/bokeh/release/bokeh-3.2.1.min.js\", \"https://cdn.bokeh.org/bokeh/release/bokeh-gl-3.2.1.min.js\", \"https://cdn.bokeh.org/bokeh/release/bokeh-widgets-3.2.1.min.js\", \"https://cdn.bokeh.org/bokeh/release/bokeh-tables-3.2.1.min.js\", \"https://cdn.bokeh.org/bokeh/release/bokeh-mathjax-3.2.1.min.js\"];\n  const css_urls = [];\n\n  const inline_js = [    function(Bokeh) {\n      Bokeh.set_log_level(\"info\");\n    },\nfunction(Bokeh) {\n    }\n  ];\n\n  function run_inline_js() {\n    if (root.Bokeh !== undefined || force === true) {\n          for (let i = 0; i < inline_js.length; i++) {\n      inline_js[i].call(root, root.Bokeh);\n    }\nif (force === true) {\n        display_loaded();\n      }} else if (Date.now() < root._bokeh_timeout) {\n      setTimeout(run_inline_js, 100);\n    } else if (!root._bokeh_failed_load) {\n      console.log(\"Bokeh: BokehJS failed to load within specified timeout.\");\n      root._bokeh_failed_load = true;\n    } else if (force !== true) {\n      const cell = $(document.getElementById(\"b57e73ea-e770-4f38-a36a-48fbf2002a27\")).parents('.cell').data().cell;\n      cell.output_area.append_execute_result(NB_LOAD_WARNING)\n    }\n  }\n\n  if (root._bokeh_is_loading === 0) {\n    console.debug(\"Bokeh: BokehJS loaded, going straight to plotting\");\n    run_inline_js();\n  } else {\n    load_libs(css_urls, js_urls, function() {\n      console.debug(\"Bokeh: BokehJS plotting callback run at\", now());\n      run_inline_js();\n    });\n  }\n}(window));"
     },
     "metadata": {},
     "output_type": "display_data"
    },
    {
     "data": {
      "text/html": [
       "\n",
       "  <div id=\"c4a4738e-e80d-4bc4-8f17-0e4a737c723a\" data-root-id=\"p3745\" style=\"display: contents;\"></div>\n"
      ]
     },
     "metadata": {},
     "output_type": "display_data"
    },
    {
     "data": {
      "application/javascript": [
       "(function(root) {\n",
       "  function embed_document(root) {\n",
       "  const docs_json = {\"141638ae-391e-4f88-9620-fbdb53234041\":{\"version\":\"3.2.1\",\"title\":\"Bokeh Application\",\"roots\":[{\"type\":\"object\",\"name\":\"Figure\",\"id\":\"p3745\",\"attributes\":{\"width\":700,\"height\":300,\"x_range\":{\"type\":\"object\",\"name\":\"DataRange1d\",\"id\":\"p3747\"},\"y_range\":{\"type\":\"object\",\"name\":\"FactorRange\",\"id\":\"p3755\",\"attributes\":{\"factors\":[\"Injuries\",\"Shots On Target\",\"Defensive Actions\",\"Discipline\",\"Ball Possession %\"]}},\"x_scale\":{\"type\":\"object\",\"name\":\"LinearScale\",\"id\":\"p3756\"},\"y_scale\":{\"type\":\"object\",\"name\":\"CategoricalScale\",\"id\":\"p3757\"},\"title\":{\"type\":\"object\",\"name\":\"Title\",\"id\":\"p3748\",\"attributes\":{\"text\":\"Impact of Features on Liverpool's Goals\",\"text_font_size\":\"16pt\"}},\"renderers\":[{\"type\":\"object\",\"name\":\"GlyphRenderer\",\"id\":\"p3777\",\"attributes\":{\"data_source\":{\"type\":\"object\",\"name\":\"ColumnDataSource\",\"id\":\"p3742\",\"attributes\":{\"selected\":{\"type\":\"object\",\"name\":\"Selection\",\"id\":\"p3743\",\"attributes\":{\"indices\":[],\"line_indices\":[]}},\"selection_policy\":{\"type\":\"object\",\"name\":\"UnionRenderers\",\"id\":\"p3744\"},\"data\":{\"type\":\"map\",\"entries\":[[\"features\",[\"Injuries\",\"Shots On Target\",\"Defensive Actions\",\"Discipline\",\"Ball Possession %\"]],[\"values\",[-0.023396721444811003,0.06854800872165003,-0.07852855220343831,-0.18838127320498937,0.5833561013504742]]]}}},\"view\":{\"type\":\"object\",\"name\":\"CDSView\",\"id\":\"p3778\",\"attributes\":{\"filter\":{\"type\":\"object\",\"name\":\"AllIndices\",\"id\":\"p3779\"}}},\"glyph\":{\"type\":\"object\",\"name\":\"HBar\",\"id\":\"p3774\",\"attributes\":{\"y\":{\"type\":\"field\",\"field\":\"features\"},\"height\":{\"type\":\"value\",\"value\":0.4},\"right\":{\"type\":\"field\",\"field\":\"values\"},\"line_color\":{\"type\":\"field\",\"field\":\"values\",\"transform\":{\"type\":\"object\",\"name\":\"LinearColorMapper\",\"id\":\"p3741\",\"attributes\":{\"palette\":[\"#a50026\",\"#d73027\",\"#f46d43\",\"#fdae61\",\"#fee08b\",\"#d9ef8b\",\"#a6d96a\",\"#66bd63\",\"#1a9850\",\"#006837\"],\"low\":-0.5833561013504742,\"high\":0.5833561013504742}}},\"fill_color\":{\"type\":\"field\",\"field\":\"values\",\"transform\":{\"id\":\"p3741\"}},\"hatch_color\":{\"type\":\"field\",\"field\":\"values\",\"transform\":{\"id\":\"p3741\"}}}},\"nonselection_glyph\":{\"type\":\"object\",\"name\":\"HBar\",\"id\":\"p3775\",\"attributes\":{\"y\":{\"type\":\"field\",\"field\":\"features\"},\"height\":{\"type\":\"value\",\"value\":0.4},\"right\":{\"type\":\"field\",\"field\":\"values\"},\"line_color\":{\"type\":\"field\",\"field\":\"values\",\"transform\":{\"id\":\"p3741\"}},\"line_alpha\":{\"type\":\"value\",\"value\":0.1},\"fill_color\":{\"type\":\"field\",\"field\":\"values\",\"transform\":{\"id\":\"p3741\"}},\"fill_alpha\":{\"type\":\"value\",\"value\":0.1},\"hatch_color\":{\"type\":\"field\",\"field\":\"values\",\"transform\":{\"id\":\"p3741\"}},\"hatch_alpha\":{\"type\":\"value\",\"value\":0.1}}},\"muted_glyph\":{\"type\":\"object\",\"name\":\"HBar\",\"id\":\"p3776\",\"attributes\":{\"y\":{\"type\":\"field\",\"field\":\"features\"},\"height\":{\"type\":\"value\",\"value\":0.4},\"right\":{\"type\":\"field\",\"field\":\"values\"},\"line_color\":{\"type\":\"field\",\"field\":\"values\",\"transform\":{\"id\":\"p3741\"}},\"line_alpha\":{\"type\":\"value\",\"value\":0.2},\"fill_color\":{\"type\":\"field\",\"field\":\"values\",\"transform\":{\"id\":\"p3741\"}},\"fill_alpha\":{\"type\":\"value\",\"value\":0.2},\"hatch_color\":{\"type\":\"field\",\"field\":\"values\",\"transform\":{\"id\":\"p3741\"}},\"hatch_alpha\":{\"type\":\"value\",\"value\":0.2}}}}},{\"type\":\"object\",\"name\":\"GlyphRenderer\",\"id\":\"p3789\",\"attributes\":{\"data_source\":{\"type\":\"object\",\"name\":\"ColumnDataSource\",\"id\":\"p3783\",\"attributes\":{\"selected\":{\"type\":\"object\",\"name\":\"Selection\",\"id\":\"p3784\",\"attributes\":{\"indices\":[],\"line_indices\":[]}},\"selection_policy\":{\"type\":\"object\",\"name\":\"UnionRenderers\",\"id\":\"p3785\"},\"data\":{\"type\":\"map\",\"entries\":[[\"x\",[0,0]],[\"y\",[0,5]]]}}},\"view\":{\"type\":\"object\",\"name\":\"CDSView\",\"id\":\"p3790\",\"attributes\":{\"filter\":{\"type\":\"object\",\"name\":\"AllIndices\",\"id\":\"p3791\"}}},\"glyph\":{\"type\":\"object\",\"name\":\"Line\",\"id\":\"p3786\",\"attributes\":{\"x\":{\"type\":\"field\",\"field\":\"x\"},\"y\":{\"type\":\"field\",\"field\":\"y\"},\"line_width\":2,\"line_dash\":[6]}},\"nonselection_glyph\":{\"type\":\"object\",\"name\":\"Line\",\"id\":\"p3787\",\"attributes\":{\"x\":{\"type\":\"field\",\"field\":\"x\"},\"y\":{\"type\":\"field\",\"field\":\"y\"},\"line_alpha\":0.1,\"line_width\":2,\"line_dash\":[6]}},\"muted_glyph\":{\"type\":\"object\",\"name\":\"Line\",\"id\":\"p3788\",\"attributes\":{\"x\":{\"type\":\"field\",\"field\":\"x\"},\"y\":{\"type\":\"field\",\"field\":\"y\"},\"line_alpha\":0.2,\"line_width\":2,\"line_dash\":[6]}}}}],\"toolbar\":{\"type\":\"object\",\"name\":\"Toolbar\",\"id\":\"p3754\",\"attributes\":{\"tools\":[{\"type\":\"object\",\"name\":\"PanTool\",\"id\":\"p3768\"},{\"type\":\"object\",\"name\":\"WheelZoomTool\",\"id\":\"p3769\"},{\"type\":\"object\",\"name\":\"ResetTool\",\"id\":\"p3770\"},{\"type\":\"object\",\"name\":\"HoverTool\",\"id\":\"p3782\",\"attributes\":{\"renderers\":\"auto\",\"tooltips\":[[\"Feature\",\"@features\"],[\"Coefficient\",\"@values\"]]}}]}},\"toolbar_location\":\"above\",\"left\":[{\"type\":\"object\",\"name\":\"CategoricalAxis\",\"id\":\"p3763\",\"attributes\":{\"ticker\":{\"type\":\"object\",\"name\":\"CategoricalTicker\",\"id\":\"p3764\"},\"formatter\":{\"type\":\"object\",\"name\":\"CategoricalTickFormatter\",\"id\":\"p3765\"},\"axis_label\":\"Features\",\"axis_label_standoff\":12,\"major_label_policy\":{\"type\":\"object\",\"name\":\"AllLabels\",\"id\":\"p3766\"}}}],\"right\":[{\"type\":\"object\",\"name\":\"ColorBar\",\"id\":\"p3780\",\"attributes\":{\"location\":[0,0],\"width\":8,\"major_label_policy\":{\"type\":\"object\",\"name\":\"NoOverlap\",\"id\":\"p3781\"},\"color_mapper\":{\"id\":\"p3741\"}}}],\"below\":[{\"type\":\"object\",\"name\":\"LinearAxis\",\"id\":\"p3758\",\"attributes\":{\"ticker\":{\"type\":\"object\",\"name\":\"BasicTicker\",\"id\":\"p3759\",\"attributes\":{\"mantissas\":[1,2,5]}},\"formatter\":{\"type\":\"object\",\"name\":\"BasicTickFormatter\",\"id\":\"p3760\"},\"axis_label\":\"Coefficient Value\",\"axis_label_standoff\":12,\"major_label_policy\":{\"type\":\"object\",\"name\":\"AllLabels\",\"id\":\"p3761\"}}}],\"center\":[{\"type\":\"object\",\"name\":\"Grid\",\"id\":\"p3762\",\"attributes\":{\"axis\":{\"id\":\"p3758\"}}},{\"type\":\"object\",\"name\":\"Grid\",\"id\":\"p3767\",\"attributes\":{\"dimension\":1,\"axis\":{\"id\":\"p3763\"}}}]}}]}};\n",
       "  const render_items = [{\"docid\":\"141638ae-391e-4f88-9620-fbdb53234041\",\"roots\":{\"p3745\":\"c4a4738e-e80d-4bc4-8f17-0e4a737c723a\"},\"root_ids\":[\"p3745\"]}];\n",
       "  root.Bokeh.embed.embed_items_notebook(docs_json, render_items);\n",
       "  }\n",
       "  if (root.Bokeh !== undefined) {\n",
       "    embed_document(root);\n",
       "  } else {\n",
       "    let attempts = 0;\n",
       "    const timer = setInterval(function(root) {\n",
       "      if (root.Bokeh !== undefined) {\n",
       "        clearInterval(timer);\n",
       "        embed_document(root);\n",
       "      } else {\n",
       "        attempts++;\n",
       "        if (attempts > 100) {\n",
       "          clearInterval(timer);\n",
       "          console.log(\"Bokeh: ERROR: Unable to run BokehJS code because BokehJS library is missing\");\n",
       "        }\n",
       "      }\n",
       "    }, 10, root)\n",
       "  }\n",
       "})(window);"
      ],
      "application/vnd.bokehjs_exec.v0+json": ""
     },
     "metadata": {
      "application/vnd.bokehjs_exec.v0+json": {
       "id": "p3745"
      }
     },
     "output_type": "display_data"
    }
   ],
   "source": [
    "analyze_football_data(liverpool,\"Liverpool\")"
   ]
  },
  {
   "cell_type": "code",
   "execution_count": 105,
   "id": "92bfb1cd",
   "metadata": {},
   "outputs": [
    {
     "data": {
      "text/plain": [
       "{'Captain': 7,\n",
       " 'Shots Total': 8,\n",
       " 'Fouls': 3,\n",
       " 'Shots Blocked': 1,\n",
       " 'Hit Woodwork': 1,\n",
       " 'Tackles': 8,\n",
       " 'Assists': 2,\n",
       " 'Passes': 410,\n",
       " 'Redcards': 1,\n",
       " 'Yellowcards': 1,\n",
       " 'Shots On Target': 1,\n",
       " 'Goals Conceded': 8,\n",
       " 'Fouls Drawn': 1,\n",
       " 'Blocked Shots': 9,\n",
       " 'Interceptions': 12,\n",
       " 'Clearances': 40,\n",
       " 'Total Duels': 52,\n",
       " 'Duels Won': 40,\n",
       " 'Aerials Won': 31,\n",
       " 'Accurate Passes': 381,\n",
       " 'Key Passes': 5,\n",
       " 'Rating': {'average': 7.37, 'highest': 8.47, 'lowest': 4.79},\n",
       " 'Minutes Played': 568,\n",
       " 'Long Balls': 24,\n",
       " 'Long Balls Won': 16,\n",
       " 'Appearances': 7,\n",
       " 'Lineups': 7,\n",
       " 'Big Chances Created': 2,\n",
       " 'Big Chances Missed': 1,\n",
       " 'Accurate Passes Percentage': 92.93}"
      ]
     },
     "execution_count": 105,
     "metadata": {},
     "output_type": "execute_result"
    }
   ],
   "source": [
    "#player stats\n",
    "\n",
    "def get_player_stats(player_id:int):\n",
    "    url = f\"https://api.sportmonks.com/v3/football/players/{player_id}?api_token={api_token}&include=statistics.details.type&filters=playerStatisticSeasons:21646\"\n",
    "    response = requests.get(url)\n",
    "    data = response.json()\n",
    "    player_statistics = data['data']['statistics'][0]['details']\n",
    "\n",
    "    stats_dict = {\n",
    "        stat['type']['name']: stat['value']['total'] if isinstance(stat['value'], dict) and 'total' in stat['value'] else stat['value']\n",
    "        for stat in player_statistics\n",
    "    }\n",
    "    \n",
    "    return stats_dict\n",
    "\n",
    "get_player_stats(1743)"
   ]
  }
 ],
 "metadata": {
  "kernelspec": {
   "display_name": "Python 3 (ipykernel)",
   "language": "python",
   "name": "python3"
  },
  "language_info": {
   "codemirror_mode": {
    "name": "ipython",
    "version": 3
   },
   "file_extension": ".py",
   "mimetype": "text/x-python",
   "name": "python",
   "nbconvert_exporter": "python",
   "pygments_lexer": "ipython3",
   "version": "3.11.5"
  }
 },
 "nbformat": 4,
 "nbformat_minor": 5
}
